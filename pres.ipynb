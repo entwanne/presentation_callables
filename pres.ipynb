{
    "cells": [
        {
            "cell_type": "markdown",
            "metadata": {
                "scrolled": true,
                "slideshow": {
                    "slide_type": "slide"
                }
            },
            "source": [
                "# Devenir incollable sur les callables\u00a0!\n",
                "#### <div align=\"right\">Antoine \"entwanne\" Rozo</div>\n",
                "\n",
                "<div align=\"right\"><img src=\"img/schtroumpf_flat_rounded.png\" style=\"width: 5em;\" /></div>\n",
                "\n",
                "<div align=\"right\"><img src=\"img/cc_by_sa.svg\" style=\"width: 5em;\" /></div>"
            ]
        },
        {
            "cell_type": "markdown",
            "metadata": {
                "scrolled": true,
                "slideshow": {
                    "slide_type": "subslide"
                }
            },
            "source": [
                "##  \n",
                "\n",
                "<center><img src=\"img/logos.svg\" style=\"width: 30em;\" /></center>"
            ]
        },
        {
            "cell_type": "markdown",
            "metadata": {
                "scrolled": true,
                "slideshow": {
                    "slide_type": "subslide"
                }
            },
            "source": [
                "## Devenir incollable sur les callables\u00a0!\n",
                "\n",
                "* Comprendre ce que sont les callables au-del\u00e0 des fonctions\n",
                "* D\u00e9couvrir ce qu'il se passe lors d'un appel\n",
                "* Petit tour du c\u00f4t\u00e9 des d\u00e9corateurs"
            ]
        },
        {
            "cell_type": "markdown",
            "metadata": {
                "scrolled": true,
                "slideshow": {
                    "slide_type": "fragment"
                }
            },
            "source": [
                "* <https://github.com/entwanne/presentation_callables>"
            ]
        },
        {
            "cell_type": "markdown",
            "metadata": {
                "scrolled": true,
                "slideshow": {
                    "slide_type": "slide"
                }
            },
            "source": [
                "# Fonctions"
            ]
        },
        {
            "cell_type": "markdown",
            "metadata": {
                "scrolled": true,
                "slideshow": {
                    "slide_type": "subslide"
                }
            },
            "source": [
                "## Fonctions\n",
                "\n",
                "- Une fonction est une op\u00e9ration qui calcule un r\u00e9sultat qu'elle renvoie \u00e0 partir d'arguments qu'on lui donne\n",
                "- Elle est appel\u00e9e \u00e0 l'aide d'une paire de parenth\u00e8ses"
            ]
        },
        {
            "cell_type": "code",
            "metadata": {
                "scrolled": true,
                "slideshow": {
                    "slide_type": "-"
                }
            },
            "source": [
                ">>> abs(5)"
            ],
            "outputs": [],
            "execution_count": null
        },
        {
            "cell_type": "code",
            "metadata": {
                "scrolled": true,
                "slideshow": {
                    "slide_type": "-"
                }
            },
            "source": [
                ">>> abs(-1.2)"
            ],
            "outputs": [],
            "execution_count": null
        },
        {
            "cell_type": "markdown",
            "metadata": {
                "scrolled": true,
                "slideshow": {
                    "slide_type": "subslide"
                }
            },
            "source": [
                "## Fonctions\n",
                "\n",
                "- Elle travaille sur tous types de valeurs"
            ]
        },
        {
            "cell_type": "code",
            "metadata": {
                "scrolled": true,
                "slideshow": {
                    "slide_type": "-"
                }
            },
            "source": [
                ">>> len('Hello')"
            ],
            "outputs": [],
            "execution_count": null
        },
        {
            "cell_type": "code",
            "metadata": {
                "scrolled": true,
                "slideshow": {
                    "slide_type": "-"
                }
            },
            "source": [
                ">>> all([True, 'foo', 4, {'key': 0}])"
            ],
            "outputs": [],
            "execution_count": null
        },
        {
            "cell_type": "markdown",
            "metadata": {
                "scrolled": true,
                "slideshow": {
                    "slide_type": "subslide"
                }
            },
            "source": [
                "## Fonctions\n",
                "\n",
                "- Une fonction ne prend pas n\u00e9cessairement d'arguments"
            ]
        },
        {
            "cell_type": "code",
            "metadata": {
                "scrolled": true,
                "slideshow": {
                    "slide_type": "-"
                }
            },
            "source": [
                ">>> input()"
            ],
            "outputs": [],
            "execution_count": null
        },
        {
            "cell_type": "markdown",
            "metadata": {
                "scrolled": true,
                "slideshow": {
                    "slide_type": "subslide"
                }
            },
            "source": [
                "## Fonctions\n",
                "\n",
                "- Mais renvoie toujours une et une seule valeur"
            ]
        },
        {
            "cell_type": "code",
            "metadata": {
                "scrolled": true,
                "slideshow": {
                    "slide_type": "-"
                }
            },
            "source": [
                ">>> print(\"abc\")"
            ],
            "outputs": [],
            "execution_count": null
        },
        {
            "cell_type": "code",
            "metadata": {
                "scrolled": true,
                "slideshow": {
                    "slide_type": "-"
                }
            },
            "source": [
                ">>> ret = print(\"abc\")\n",
                ">>> print(ret)"
            ],
            "outputs": [],
            "execution_count": null
        },
        {
            "cell_type": "code",
            "metadata": {
                "scrolled": true,
                "slideshow": {
                    "slide_type": "fragment"
                }
            },
            "source": [
                ">>> divmod(7, 2)"
            ],
            "outputs": [],
            "execution_count": null
        },
        {
            "cell_type": "code",
            "metadata": {
                "scrolled": true,
                "slideshow": {
                    "slide_type": "fragment"
                }
            },
            "source": [
                ">>> a, b = divmod(7, 2)"
            ],
            "outputs": [],
            "execution_count": null
        },
        {
            "cell_type": "markdown",
            "metadata": {
                "scrolled": true,
                "slideshow": {
                    "slide_type": "subslide"
                }
            },
            "source": [
                "## Fonctions\n",
                "\n",
                "- Tout appel de fonction peut ainsi \u00eatre utilis\u00e9 au sein d'une expression"
            ]
        },
        {
            "cell_type": "code",
            "metadata": {
                "scrolled": true,
                "slideshow": {
                    "slide_type": "-"
                }
            },
            "source": [
                ">>> round(3.5) * 2 + abs(-5)"
            ],
            "outputs": [],
            "execution_count": null
        },
        {
            "cell_type": "markdown",
            "metadata": {
                "scrolled": true,
                "slideshow": {
                    "slide_type": "subslide"
                }
            },
            "source": [
                "## Fonctions\n",
                "\n",
                "- Une fonction ne renvoie pas n\u00e9cessairement toujours la m\u00eame valeur pour les m\u00eames arguments"
            ]
        },
        {
            "cell_type": "code",
            "metadata": {
                "scrolled": true,
                "slideshow": {
                    "slide_type": "-"
                }
            },
            "source": [
                ">>> import random\n",
                ">>> random.randrange(10)"
            ],
            "outputs": [],
            "execution_count": null
        },
        {
            "cell_type": "code",
            "metadata": {
                "scrolled": true,
                "slideshow": {
                    "slide_type": "fragment"
                }
            },
            "source": [
                ">>> it = iter(range(10))"
            ],
            "outputs": [],
            "execution_count": null
        },
        {
            "cell_type": "code",
            "metadata": {
                "scrolled": true,
                "slideshow": {
                    "slide_type": "-"
                }
            },
            "source": [
                ">>> next(it)"
            ],
            "outputs": [],
            "execution_count": null
        },
        {
            "cell_type": "markdown",
            "metadata": {
                "scrolled": true,
                "slideshow": {
                    "slide_type": "subslide"
                }
            },
            "source": [
                "## D\u00e9finition de fonction\n",
                "\n",
                "- On d\u00e9finit une fonction \u00e0 l'aide du mot-cl\u00e9 `def`\n",
                "- La d\u00e9finition associe une fonction \u00e0 un nom et lui sp\u00e9cifie une liste de param\u00e8tres\n",
                "- Le bloc de code suivant la ligne de d\u00e9finition est le corps de la fonction\n",
                "- La valeur de retour d'une fonction est renvoy\u00e9e \u00e0 l'aide du mot-cl\u00e9 `return`"
            ]
        },
        {
            "cell_type": "code",
            "metadata": {
                "scrolled": true,
                "slideshow": {
                    "slide_type": "-"
                }
            },
            "source": [
                "def addition(a, b):\n",
                "    return a + b"
            ],
            "outputs": [],
            "execution_count": null
        },
        {
            "cell_type": "code",
            "metadata": {
                "scrolled": true,
                "slideshow": {
                    "slide_type": "-"
                }
            },
            "source": [
                ">>> addition(3, 5)"
            ],
            "outputs": [],
            "execution_count": null
        },
        {
            "cell_type": "markdown",
            "metadata": {
                "scrolled": true,
                "slideshow": {
                    "slide_type": "slide"
                }
            },
            "source": [
                "# Autres callables"
            ]
        },
        {
            "cell_type": "markdown",
            "metadata": {
                "scrolled": true,
                "slideshow": {
                    "slide_type": "subslide"
                }
            },
            "source": [
                "## Callables\n",
                "\n",
                "- Les fonctions sont des callables / appelables (objets que l'on peut appeler \u00e0 l'aide de parenth\u00e8ses)\n",
                "- Mais il n'y a pas que les fonctions qui sont appelables"
            ]
        },
        {
            "cell_type": "markdown",
            "metadata": {
                "scrolled": true,
                "slideshow": {
                    "slide_type": "subslide"
                }
            },
            "source": [
                "## Types\n",
                "\n",
                "- Les types sont appelables, pour en cr\u00e9er des instances"
            ]
        },
        {
            "cell_type": "code",
            "metadata": {
                "scrolled": true,
                "slideshow": {
                    "slide_type": "-"
                }
            },
            "source": [
                ">>> int('123')"
            ],
            "outputs": [],
            "execution_count": null
        },
        {
            "cell_type": "code",
            "metadata": {
                "scrolled": true,
                "slideshow": {
                    "slide_type": "fragment"
                }
            },
            "source": [
                ">>> str()"
            ],
            "outputs": [],
            "execution_count": null
        },
        {
            "cell_type": "code",
            "metadata": {
                "scrolled": true,
                "slideshow": {
                    "slide_type": "fragment"
                }
            },
            "source": [
                ">>> range(10)"
            ],
            "outputs": [],
            "execution_count": null
        },
        {
            "cell_type": "markdown",
            "metadata": {
                "scrolled": true,
                "slideshow": {
                    "slide_type": "subslide"
                }
            },
            "source": [
                "## M\u00e9thodes\n",
                "\n",
                "- Les m\u00e9thodes des objets sont appelables"
            ]
        },
        {
            "cell_type": "code",
            "metadata": {
                "scrolled": true,
                "slideshow": {
                    "slide_type": "-"
                }
            },
            "source": [
                ">>> \"Hello\".replace(\"l\", \"_\")"
            ],
            "outputs": [],
            "execution_count": null
        },
        {
            "cell_type": "markdown",
            "metadata": {
                "scrolled": true,
                "slideshow": {
                    "slide_type": "fragment"
                }
            },
            "source": [
                "- De m\u00eame que les m\u00e9thodes de classes"
            ]
        },
        {
            "cell_type": "code",
            "metadata": {
                "scrolled": true,
                "slideshow": {
                    "slide_type": "-"
                }
            },
            "source": [
                ">>> dict.fromkeys([1, 2, 3])"
            ],
            "outputs": [],
            "execution_count": null
        },
        {
            "cell_type": "markdown",
            "metadata": {
                "scrolled": true,
                "slideshow": {
                    "slide_type": "subslide"
                }
            },
            "source": [
                "## Lambdas\n",
                "\n",
                "- Les lambdas sont des d\u00e9finitions de fonctions sous forme d'expressions"
            ]
        },
        {
            "cell_type": "code",
            "metadata": {
                "scrolled": true,
                "slideshow": {
                    "slide_type": "-"
                }
            },
            "source": [
                ">>> f = lambda x: x+1\n",
                ">>> f(5)"
            ],
            "outputs": [],
            "execution_count": null
        },
        {
            "cell_type": "code",
            "metadata": {
                "scrolled": true,
                "slideshow": {
                    "slide_type": "fragment"
                }
            },
            "source": [
                ">>> (lambda i: i**2)(4)"
            ],
            "outputs": [],
            "execution_count": null
        },
        {
            "cell_type": "markdown",
            "metadata": {
                "scrolled": true,
                "slideshow": {
                    "slide_type": "fragment"
                }
            },
            "source": [
                "- On parle aussi de fonctions anonymes"
            ]
        },
        {
            "cell_type": "markdown",
            "metadata": {
                "scrolled": true,
                "slideshow": {
                    "slide_type": "subslide"
                }
            },
            "source": [
                "## Autres\n",
                "\n",
                "- Les objects `functools.partial` sont des appels partiels de fonctions\n",
                "- Ils stockent les arguments donn\u00e9s \u00e0 la cr\u00e9ation pour les r\u00e9utiliser lors de l'appel final"
            ]
        },
        {
            "cell_type": "code",
            "metadata": {
                "scrolled": true,
                "slideshow": {
                    "slide_type": "-"
                }
            },
            "source": [
                ">>> import functools\n",
                ">>> f = functools.partial(max, 0)\n",
                ">>> f(1, 2)"
            ],
            "outputs": [],
            "execution_count": null
        },
        {
            "cell_type": "code",
            "metadata": {
                "scrolled": true,
                "slideshow": {
                    "slide_type": "fragment"
                }
            },
            "source": [
                ">>> f(-1, -2)"
            ],
            "outputs": [],
            "execution_count": null
        },
        {
            "cell_type": "markdown",
            "metadata": {
                "scrolled": true,
                "slideshow": {
                    "slide_type": "slide"
                }
            },
            "source": [
                "# Arguments des appelables"
            ]
        },
        {
            "cell_type": "markdown",
            "metadata": {
                "scrolled": true,
                "slideshow": {
                    "slide_type": "subslide"
                }
            },
            "source": [
                "## Arguments\n",
                "\n",
                "- Les arguments sont les valeurs envoy\u00e9es \u00e0 un _callable_"
            ]
        },
        {
            "cell_type": "code",
            "metadata": {
                "scrolled": true,
                "slideshow": {
                    "slide_type": "-"
                }
            },
            "source": [
                ">>> addition(3, 5)"
            ],
            "outputs": [],
            "execution_count": null
        },
        {
            "cell_type": "markdown",
            "metadata": {
                "scrolled": true,
                "slideshow": {
                    "slide_type": "fragment"
                }
            },
            "source": [
                "- Ils peuvent \u00eatre positionnels ou nomm\u00e9s"
            ]
        },
        {
            "cell_type": "code",
            "metadata": {
                "scrolled": true,
                "slideshow": {
                    "slide_type": "-"
                }
            },
            "source": [
                ">>> addition(a=3, b=5)"
            ],
            "outputs": [],
            "execution_count": null
        },
        {
            "cell_type": "markdown",
            "metadata": {
                "scrolled": true,
                "slideshow": {
                    "slide_type": "subslide"
                }
            },
            "source": [
                "## Ordre de placement des arguments\n",
                "\n",
                "- Les arguments positionnels se placent toujours avant les arguments nomm\u00e9s"
            ]
        },
        {
            "cell_type": "code",
            "metadata": {
                "scrolled": true,
                "slideshow": {
                    "slide_type": "-"
                }
            },
            "source": [
                ">>> addition(3, b=5)"
            ],
            "outputs": [],
            "execution_count": null
        },
        {
            "cell_type": "code",
            "metadata": {
                "scrolled": true,
                "slideshow": {
                    "slide_type": "fragment"
                }
            },
            "source": [
                ">>> addition(a=3, 5)"
            ],
            "outputs": [],
            "execution_count": null
        },
        {
            "cell_type": "markdown",
            "metadata": {
                "scrolled": true,
                "slideshow": {
                    "slide_type": "subslide"
                }
            },
            "source": [
                "## Arguments et param\u00e8tres\n",
                "\n",
                "- Ne pas confondre les arguments avec les param\u00e8tres qui sont les variables dans lesquelles sont re\u00e7us les arguments\n",
                "- Un argument ne peut correspondre qu'\u00e0 un seul param\u00e8tre"
            ]
        },
        {
            "cell_type": "markdown",
            "metadata": {
                "scrolled": true,
                "slideshow": {
                    "slide_type": "subslide"
                }
            },
            "source": [
                "## Arguments et param\u00e8tres\n",
                "\n",
                "- `a` et `b` sont les param\u00e8tres de la fonction `addition`\n",
                "    ```python\n",
                "    def addition(a, b):\n",
                "        return a + b\n",
                "    ```\n",
                "- `3` et `5` sont les arguments de l'appel\n",
                "    ```python\n",
                "    addition(3, b=5)\n",
                "    ```\n",
                "- `5` est un argument nomm\u00e9 associ\u00e9 au nom `b`"
            ]
        },
        {
            "cell_type": "markdown",
            "metadata": {
                "scrolled": true,
                "slideshow": {
                    "slide_type": "subslide"
                }
            },
            "source": [
                "## Arguments et param\u00e8tres\n",
                "\n",
                "- Les arguments positionnels remplissent les param\u00e8tres de la gauche vers la droite\n",
                "- Tandis que les arguments nomm\u00e9s remplissent les param\u00e8tres correspondant \u00e0 leurs noms"
            ]
        },
        {
            "cell_type": "markdown",
            "metadata": {
                "scrolled": true,
                "slideshow": {
                    "slide_type": "subslide"
                }
            },
            "source": [
                "## Valeur par d\u00e9faut\n",
                "\n",
                "- Un param\u00e8tre peut d\u00e9finir une valeur par d\u00e9faut\n",
                "- Elle sera utilis\u00e9e si aucun argument n'est fourni pour ce param\u00e8tre"
            ]
        },
        {
            "cell_type": "code",
            "metadata": {
                "scrolled": true,
                "slideshow": {
                    "slide_type": "-"
                }
            },
            "source": [
                "def multiplication(a, b=1):\n",
                "    return a * b"
            ],
            "outputs": [],
            "execution_count": null
        },
        {
            "cell_type": "code",
            "metadata": {
                "scrolled": true,
                "slideshow": {
                    "slide_type": "fragment"
                }
            },
            "source": [
                ">>> multiplication(3, 4)"
            ],
            "outputs": [],
            "execution_count": null
        },
        {
            "cell_type": "code",
            "metadata": {
                "scrolled": true,
                "slideshow": {
                    "slide_type": "fragment"
                }
            },
            "source": [
                ">>> multiplication(5)"
            ],
            "outputs": [],
            "execution_count": null
        },
        {
            "cell_type": "markdown",
            "metadata": {
                "scrolled": true,
                "slideshow": {
                    "slide_type": "subslide"
                }
            },
            "source": [
                "## Valeur par d\u00e9faut\n",
                "\n",
                "- Attention\u00a0: cette valeur par d\u00e9faut est d\u00e9finie une seule fois pour la fonction"
            ]
        },
        {
            "cell_type": "code",
            "metadata": {
                "scrolled": true,
                "slideshow": {
                    "slide_type": "-"
                }
            },
            "source": [
                ">>> def append(item, dest=[]):\n",
                "...     dest.append(item)\n",
                "...     return dest"
            ],
            "outputs": [],
            "execution_count": null
        },
        {
            "cell_type": "code",
            "metadata": {
                "scrolled": true,
                "slideshow": {
                    "slide_type": "fragment"
                }
            },
            "source": [
                ">>> append(4, [1, 2, 3])"
            ],
            "outputs": [],
            "execution_count": null
        },
        {
            "cell_type": "code",
            "metadata": {
                "scrolled": true,
                "slideshow": {
                    "slide_type": "fragment"
                }
            },
            "source": [
                ">>> append('hello')"
            ],
            "outputs": [],
            "execution_count": null
        },
        {
            "cell_type": "markdown",
            "metadata": {
                "scrolled": true,
                "slideshow": {
                    "slide_type": "subslide"
                }
            },
            "source": [
                "## Diff\u00e9rentes sortes de param\u00e8tres\n",
                "\n",
                "- Les param\u00e8tres peuvent \u00eatre de plusieurs sortes\u00a0:\n",
                "    - _posititonal-only_, qui ne peuvent recevoir que des arguments positionnels\n",
                "    - _keyword-only_, qui ne peuvent recevoir que des arguments nomm\u00e9s\n",
                "    - _positional-or-keyword_, qui peuvent recevoir \u00e0 la fois des arguments positionnels ou nomm\u00e9s\n",
                "\n",
                "- Jusqu'ici nos param\u00e8tres \u00e9taient tous de type _positional-or-keyword_"
            ]
        },
        {
            "cell_type": "markdown",
            "metadata": {
                "scrolled": true,
                "slideshow": {
                    "slide_type": "subslide"
                }
            },
            "source": [
                "## Diff\u00e9rentes sortes de param\u00e8tres\n",
                "\n",
                "- Il est possible \u00e0 l'aide des d\u00e9limiteurs `/` et `*` de sp\u00e9cifier la sorte de nos param\u00e8tres\u00a0:\n",
                "    - Les param\u00e8tres plac\u00e9s avant `/` sont _positional-only_\n",
                "    - Les param\u00e8tres plac\u00e9s apr\u00e8s `*` sont _keyword-only_\n",
                "    - Les autres param\u00e8tres sont _positional-or-keyword_\n",
                "- Ces d\u00e9limiteurs sont bien s\u00fbr optionnels"
            ]
        },
        {
            "cell_type": "markdown",
            "metadata": {
                "scrolled": true,
                "slideshow": {
                    "slide_type": "subslide"
                }
            },
            "source": [
                "## Diff\u00e9rentes sortes de param\u00e8tres"
            ]
        },
        {
            "cell_type": "code",
            "metadata": {
                "scrolled": true,
                "slideshow": {
                    "slide_type": "-"
                }
            },
            "source": [
                "def function(first, /, second, third, *, fourth):\n",
                "    ..."
            ],
            "outputs": [],
            "execution_count": null
        },
        {
            "cell_type": "markdown",
            "metadata": {
                "scrolled": true,
                "slideshow": {
                    "slide_type": "-"
                }
            },
            "source": [
                "- `first` est _positional-only_\n",
                "- `second` et `third` sont _positional-or-keyword_\n",
                "- `fourth` est _positional-only_"
            ]
        },
        {
            "cell_type": "markdown",
            "metadata": {
                "scrolled": true,
                "slideshow": {
                    "slide_type": "subslide"
                }
            },
            "source": [
                "## Diff\u00e9rentes sortes de param\u00e8tres\n",
                "\n",
                "- \u00c0 l'appel cela signifie que `first` ne peut pas recevoir d'argument nomm\u00e9 et `fourth` ne peut pas recevoir d'argument positionnel"
            ]
        },
        {
            "cell_type": "code",
            "metadata": {
                "scrolled": true,
                "slideshow": {
                    "slide_type": "-"
                }
            },
            "source": [
                ">>> function(1, 2, 3, fourth=4)"
            ],
            "outputs": [],
            "execution_count": null
        },
        {
            "cell_type": "code",
            "metadata": {
                "scrolled": true,
                "slideshow": {
                    "slide_type": "-"
                }
            },
            "source": [
                ">>> function(1, second=2, third=3, fourth=4)"
            ],
            "outputs": [],
            "execution_count": null
        },
        {
            "cell_type": "code",
            "metadata": {
                "scrolled": true,
                "slideshow": {
                    "slide_type": "-"
                }
            },
            "source": [
                ">>> function(1, 2, 3, 4)"
            ],
            "outputs": [],
            "execution_count": null
        },
        {
            "cell_type": "code",
            "metadata": {
                "scrolled": true,
                "slideshow": {
                    "slide_type": "-"
                }
            },
            "source": [
                ">>> function(first=1, second=2, third=3, fourth=4)"
            ],
            "outputs": [],
            "execution_count": null
        },
        {
            "cell_type": "markdown",
            "metadata": {
                "scrolled": true,
                "slideshow": {
                    "slide_type": "subslide"
                }
            },
            "source": [
                "## Ordre de d\u00e9finition des param\u00e8tres\n",
                "\n",
                "- Les d\u00e9limiteurs font qu'il y a un ordre \u00e0 respecter pour d\u00e9finir les diff\u00e9rents param\u00e8tres\n",
                "    - D'abord _positional-only_, puis _positional-or-keyword_ et enfin _keyword-only_\n",
                "- Les valeurs par d\u00e9faut des param\u00e8tres sont aussi \u00e0 prendre en compte dans l'ordre de d\u00e9finition"
            ]
        },
        {
            "cell_type": "markdown",
            "metadata": {
                "scrolled": true,
                "slideshow": {
                    "slide_type": "subslide"
                }
            },
            "source": [
                "## Ordre de d\u00e9finition des param\u00e8tres\n",
                "\n",
                "- Chez les arguments qui peuvent \u00eatre positionnels (_positional-only_ ou _positional-or-keyword_) un param\u00e8tre sans valeur par d\u00e9faut ne peut pas suivre un param\u00e8tre qui en a une"
            ]
        },
        {
            "cell_type": "code",
            "metadata": {
                "scrolled": true,
                "slideshow": {
                    "slide_type": "-"
                }
            },
            "source": [
                "def function(first, /, second, third=3):\n",
                "    ..."
            ],
            "outputs": [],
            "execution_count": null
        },
        {
            "cell_type": "code",
            "metadata": {
                "scrolled": true,
                "slideshow": {
                    "slide_type": "-"
                }
            },
            "source": [
                "def function(first, /, second=2, third):\n",
                "    ..."
            ],
            "outputs": [],
            "execution_count": null
        },
        {
            "cell_type": "code",
            "metadata": {
                "scrolled": true,
                "slideshow": {
                    "slide_type": "-"
                }
            },
            "source": [
                "def function(first=1, /, second, third):\n",
                "    ..."
            ],
            "outputs": [],
            "execution_count": null
        },
        {
            "cell_type": "markdown",
            "metadata": {
                "scrolled": true,
                "slideshow": {
                    "slide_type": "subslide"
                }
            },
            "source": [
                "## Ordre de d\u00e9finition des param\u00e8tres\n",
                "\n",
                "- Le probl\u00e8me ne se pose pas pour les param\u00e8tres _keyword-only_ puisque l'ordre des arguments n'y a pas d'importance"
            ]
        },
        {
            "cell_type": "code",
            "metadata": {
                "scrolled": true,
                "slideshow": {
                    "slide_type": "-"
                }
            },
            "source": [
                "def function(foo=None, *, bar=True, baz):\n",
                "    return (foo, bar, baz)"
            ],
            "outputs": [],
            "execution_count": null
        },
        {
            "cell_type": "code",
            "metadata": {
                "scrolled": true,
                "slideshow": {
                    "slide_type": "-"
                }
            },
            "source": [
                ">>> function(baz=False)"
            ],
            "outputs": [],
            "execution_count": null
        },
        {
            "cell_type": "markdown",
            "metadata": {
                "scrolled": true,
                "slideshow": {
                    "slide_type": "subslide"
                }
            },
            "source": [
                "## Param\u00e8tres variadiques\n",
                "\n",
                "- Il existe aussi des param\u00e8tres sp\u00e9ciaux pour r\u00e9cup\u00e9rer tout un ensemble d'arguments, qu'on appelle param\u00e8tres variadiques\n",
                "    - Ce nom vient du fait qu'ils r\u00e9cup\u00e8rent un nombre variable d'arguments\u2026\n",
                "    - Autrement dit des arguments variadiques"
            ]
        },
        {
            "cell_type": "markdown",
            "metadata": {
                "scrolled": true,
                "slideshow": {
                    "slide_type": "subslide"
                }
            },
            "source": [
                "## Param\u00e8tres variadiques\n",
                "\n",
                "- Un param\u00e8tre pr\u00e9fix\u00e9 d'un `*` r\u00e9cup\u00e8re tous les arguments positionnels restants\n",
                "    - Il prend alors la place du d\u00e9limiteur `*` dans la liste des param\u00e8tres\n",
                "    - C'est-\u00e0-dire qu'il se place n\u00e9cessairement apr\u00e8s tous les param\u00e8tres qui peuvent recevoir des arguments positionnels\n",
                "    - Il ne peut y avoir qu'un param\u00e8tre pr\u00e9fix\u00e9 d'un `*`\n",
                "    - Ce param\u00e8tre contiendra alors un tuple des arguments positionnels donn\u00e9s \u00e0 la fonction\n",
                "    - Les arguments positionnels qui correspondent \u00e0 un param\u00e8tre pr\u00e9cis ne seront pas inclus dans ce tuple\n",
                "    - Il est d'usage d'appeler ce param\u00e8tre `args`"
            ]
        },
        {
            "cell_type": "markdown",
            "metadata": {
                "scrolled": true,
                "slideshow": {
                    "slide_type": "subslide"
                }
            },
            "source": [
                "## Param\u00e8tres variadiques"
            ]
        },
        {
            "cell_type": "code",
            "metadata": {
                "scrolled": true,
                "slideshow": {
                    "slide_type": "-"
                }
            },
            "source": [
                "def my_sum(*args):\n",
                "    total = 0\n",
                "    for item in args:\n",
                "        total += item\n",
                "    return total"
            ],
            "outputs": [],
            "execution_count": null
        },
        {
            "cell_type": "code",
            "metadata": {
                "scrolled": true,
                "slideshow": {
                    "slide_type": "-"
                }
            },
            "source": [
                ">>> my_sum(1, 2, 3)"
            ],
            "outputs": [],
            "execution_count": null
        },
        {
            "cell_type": "code",
            "metadata": {
                "scrolled": true,
                "slideshow": {
                    "slide_type": "-"
                }
            },
            "source": [
                ">>> my_sum()"
            ],
            "outputs": [],
            "execution_count": null
        },
        {
            "cell_type": "markdown",
            "metadata": {
                "scrolled": true,
                "slideshow": {
                    "slide_type": "subslide"
                }
            },
            "source": [
                "## Param\u00e8tres variadiques\n",
                "\n",
                "- Ils peuvent bien s\u00fbr \u00eatre combin\u00e9s avec d'autres sortes de param\u00e8tres"
            ]
        },
        {
            "cell_type": "code",
            "metadata": {
                "scrolled": true,
                "slideshow": {
                    "slide_type": "-"
                }
            },
            "source": [
                "def my_sum(first, /, *args):\n",
                "    total = first\n",
                "    for item in args:\n",
                "        total += item\n",
                "    return total"
            ],
            "outputs": [],
            "execution_count": null
        },
        {
            "cell_type": "code",
            "metadata": {
                "scrolled": true,
                "slideshow": {
                    "slide_type": "-"
                }
            },
            "source": [
                ">>> my_sum(1, 2, 3)"
            ],
            "outputs": [],
            "execution_count": null
        },
        {
            "cell_type": "code",
            "metadata": {
                "scrolled": true,
                "slideshow": {
                    "slide_type": "-"
                }
            },
            "source": [
                ">>> my_sum('a', 'b', 'c')"
            ],
            "outputs": [],
            "execution_count": null
        },
        {
            "cell_type": "code",
            "metadata": {
                "scrolled": true,
                "slideshow": {
                    "slide_type": "-"
                }
            },
            "source": [
                ">>> my_sum()"
            ],
            "outputs": [],
            "execution_count": null
        },
        {
            "cell_type": "markdown",
            "metadata": {
                "scrolled": true,
                "slideshow": {
                    "slide_type": "subslide"
                }
            },
            "source": [
                "## Param\u00e8tres variadiques\n",
                "\n",
                "- C'est aussi ce qui est utilis\u00e9 par la fonction `print` par exemple pour accepter un nombre arbitraire d'arguments"
            ]
        },
        {
            "cell_type": "code",
            "metadata": {
                "scrolled": true,
                "slideshow": {
                    "slide_type": "-"
                }
            },
            "source": [
                ">>> print(1, 'foo', ['hello', 'world'])"
            ],
            "outputs": [],
            "execution_count": null
        },
        {
            "cell_type": "markdown",
            "metadata": {
                "scrolled": true,
                "slideshow": {
                    "slide_type": "subslide"
                }
            },
            "source": [
                "## Param\u00e8tres variadiques\n",
                "\n",
                "- De mani\u00e8re similaire, le pr\u00e9fixe `**` permet de d\u00e9finir un param\u00e8tre qui r\u00e9cup\u00e8re tous les arguments nomm\u00e9s restants\n",
                "    - Ce param\u00e8tre se place n\u00e9cessairement apr\u00e8s tous les autres\n",
                "    - Il est unique lui aussi\n",
                "    - Il contient le dictionnaire des arguments nomm\u00e9s pass\u00e9s \u00e0 la fonction\n",
                "    - Seuls les arguments nomm\u00e9s ne correspondant \u00e0 aucun autre param\u00e8tre sont pr\u00e9sents dans ce dictionnaire\n",
                "    - Il est d'usage d'appeler ce param\u00e8tre `kwargs`"
            ]
        },
        {
            "cell_type": "markdown",
            "metadata": {
                "scrolled": true,
                "slideshow": {
                    "slide_type": "subslide"
                }
            },
            "source": [
                "## Param\u00e8tres variadiques"
            ]
        },
        {
            "cell_type": "code",
            "metadata": {
                "scrolled": true,
                "slideshow": {
                    "slide_type": "-"
                }
            },
            "source": [
                "def make_dict(**kwargs):\n",
                "    return kwargs"
            ],
            "outputs": [],
            "execution_count": null
        },
        {
            "cell_type": "code",
            "metadata": {
                "scrolled": true,
                "slideshow": {
                    "slide_type": "-"
                }
            },
            "source": [
                ">>> make_dict(foo=1, bar=2)"
            ],
            "outputs": [],
            "execution_count": null
        },
        {
            "cell_type": "markdown",
            "metadata": {
                "scrolled": true,
                "slideshow": {
                    "slide_type": "subslide"
                }
            },
            "source": [
                "## Param\u00e8tres variadiques\n",
                "\n",
                "- Combinables eux-aussi avec d'autres sortes de param\u00e8tres"
            ]
        },
        {
            "cell_type": "code",
            "metadata": {
                "scrolled": true,
                "slideshow": {
                    "slide_type": "-"
                }
            },
            "source": [
                "def make_obj(id, **kwargs):\n",
                "    return {'id': id} | kwargs"
            ],
            "outputs": [],
            "execution_count": null
        },
        {
            "cell_type": "code",
            "metadata": {
                "scrolled": true,
                "slideshow": {
                    "slide_type": "-"
                }
            },
            "source": [
                ">>> make_obj('#1', foo='bar')"
            ],
            "outputs": [],
            "execution_count": null
        },
        {
            "cell_type": "code",
            "metadata": {
                "scrolled": true,
                "slideshow": {
                    "slide_type": "-"
                }
            },
            "source": [
                ">>> make_obj(id='#1', foo='baz')"
            ],
            "outputs": [],
            "execution_count": null
        },
        {
            "cell_type": "markdown",
            "metadata": {
                "scrolled": true,
                "slideshow": {
                    "slide_type": "subslide"
                }
            },
            "source": [
                "## Op\u00e9rateurs _splat_\n",
                "\n",
                "- Ces d\u00e9limiteurs `*` et `**` ne sont pas utilisables uniquement dans les listes de param\u00e8tres\n",
                "- On les retrouve aussi dans les listes d'arguments, sous le nom d'op\u00e9rateurs _splat_\n",
                "- Ils ont l'effet inverse de celui en place pour les param\u00e8tres"
            ]
        },
        {
            "cell_type": "markdown",
            "metadata": {
                "scrolled": true,
                "slideshow": {
                    "slide_type": "subslide"
                }
            },
            "source": [
                "## Op\u00e9rateurs _splat_\n",
                "\n",
                "- Ainsi `*` appliqu\u00e9 \u00e0 une liste (ou tout autre it\u00e9rable) transforme ses \u00e9l\u00e9ments en arguments positionnels"
            ]
        },
        {
            "cell_type": "code",
            "metadata": {
                "scrolled": true,
                "slideshow": {
                    "slide_type": "-"
                }
            },
            "source": [
                ">>> addition(*[3, 5])"
            ],
            "outputs": [],
            "execution_count": null
        },
        {
            "cell_type": "code",
            "metadata": {
                "scrolled": true,
                "slideshow": {
                    "slide_type": "-"
                }
            },
            "source": [
                ">>> print(*(i**2 for i in range(10)))"
            ],
            "outputs": [],
            "execution_count": null
        },
        {
            "cell_type": "markdown",
            "metadata": {
                "scrolled": true,
                "slideshow": {
                    "slide_type": "subslide"
                }
            },
            "source": [
                "## Op\u00e9rateurs _splat_\n",
                "\n",
                "- Et contrairement aux param\u00e8tres, on peut appliquer le _splat_ \u00e0 plusieurs arguments\n",
                "- On peut aussi pr\u00e9ciser d'autres arguments"
            ]
        },
        {
            "cell_type": "code",
            "metadata": {
                "scrolled": true,
                "slideshow": {
                    "slide_type": "-"
                }
            },
            "source": [
                ">>> my_sum(*range(5), 10, *range(3))"
            ],
            "outputs": [],
            "execution_count": null
        },
        {
            "cell_type": "markdown",
            "metadata": {
                "scrolled": true,
                "slideshow": {
                    "slide_type": "subslide"
                }
            },
            "source": [
                "## Op\u00e9rateurs _splat_\n",
                "\n",
                "- Quant \u00e0 `**` il s'applique \u00e0 un dictionnaire (ou similaire) et transforme les \u00e9l\u00e9ments en arguments nomm\u00e9s\n",
                "- Les cl\u00e9s du dictionnaires doivent alors \u00eatre des cha\u00eenes de caract\u00e8res"
            ]
        },
        {
            "cell_type": "code",
            "metadata": {
                "scrolled": true,
                "slideshow": {
                    "slide_type": "-"
                }
            },
            "source": [
                ">>> addition(**{'a': 3, 'b': 5})"
            ],
            "outputs": [],
            "execution_count": null
        },
        {
            "cell_type": "markdown",
            "metadata": {
                "scrolled": true,
                "slideshow": {
                    "slide_type": "subslide"
                }
            },
            "source": [
                "## Unpacking\n",
                "\n",
                "- On retrouve d'ailleurs aussi l'op\u00e9rateur _splat_ dans les op\u00e9rations d'_unpacking_\n",
                "- L'_unpacking_ consiste \u00e0 extraire des valeurs depuis un it\u00e9rable \u00e0 l'aide d'une assignation sp\u00e9ciale"
            ]
        },
        {
            "cell_type": "code",
            "metadata": {
                "scrolled": true,
                "slideshow": {
                    "slide_type": "-"
                }
            },
            "source": [
                ">>> first, *middle, last = *range(5), 8, *range(3)"
            ],
            "outputs": [],
            "execution_count": null
        },
        {
            "cell_type": "code",
            "metadata": {
                "scrolled": true,
                "slideshow": {
                    "slide_type": "-"
                }
            },
            "source": [
                ">>> first"
            ],
            "outputs": [],
            "execution_count": null
        },
        {
            "cell_type": "code",
            "metadata": {
                "scrolled": true,
                "slideshow": {
                    "slide_type": "-"
                }
            },
            "source": [
                ">>> middle"
            ],
            "outputs": [],
            "execution_count": null
        },
        {
            "cell_type": "code",
            "metadata": {
                "scrolled": true,
                "slideshow": {
                    "slide_type": "-"
                }
            },
            "source": [
                ">>> last"
            ],
            "outputs": [],
            "execution_count": null
        },
        {
            "cell_type": "markdown",
            "metadata": {
                "scrolled": true,
                "slideshow": {
                    "slide_type": "slide"
                }
            },
            "source": [
                "# Signatures de fonctions"
            ]
        },
        {
            "cell_type": "markdown",
            "metadata": {
                "scrolled": true,
                "slideshow": {
                    "slide_type": "subslide"
                }
            },
            "source": [
                "## Signatures de fonctions\n",
                "\n",
                "- La signature d'une fonction repr\u00e9sente son interface, d\u00e9crivant comment on peut l'appeler\n",
                "- La fonction `signature` du module `inspect` permet de r\u00e9cup\u00e9rer la signature d'une fonction"
            ]
        },
        {
            "cell_type": "code",
            "metadata": {
                "scrolled": true,
                "slideshow": {
                    "slide_type": "-"
                }
            },
            "source": [
                ">>> import inspect\n",
                ">>> inspect.signature(addition)"
            ],
            "outputs": [],
            "execution_count": null
        },
        {
            "cell_type": "markdown",
            "metadata": {
                "scrolled": true,
                "slideshow": {
                    "slide_type": "fragment"
                }
            },
            "source": [
                "- On voit ainsi que notre fonction `addition` attend deux param\u00e8tres `a` et `b`"
            ]
        },
        {
            "cell_type": "markdown",
            "metadata": {
                "scrolled": true,
                "slideshow": {
                    "slide_type": "subslide"
                }
            },
            "source": [
                "## Signatures\n",
                "\n",
                "- L'object renvoy\u00e9 par `inspect.signature` permet d'explorer la signature de la fonction"
            ]
        },
        {
            "cell_type": "code",
            "metadata": {
                "scrolled": true,
                "slideshow": {
                    "slide_type": "-"
                }
            },
            "source": [
                ">>> sig = inspect.signature(addition)\n",
                ">>> sig.parameters"
            ],
            "outputs": [],
            "execution_count": null
        },
        {
            "cell_type": "code",
            "metadata": {
                "scrolled": true,
                "slideshow": {
                    "slide_type": "fragment"
                }
            },
            "source": [
                ">>> sig.parameters.keys()"
            ],
            "outputs": [],
            "execution_count": null
        },
        {
            "cell_type": "code",
            "metadata": {
                "scrolled": true,
                "slideshow": {
                    "slide_type": "fragment"
                }
            },
            "source": [
                ">>> sig.parameters['a']"
            ],
            "outputs": [],
            "execution_count": null
        },
        {
            "cell_type": "code",
            "metadata": {
                "scrolled": true,
                "slideshow": {
                    "slide_type": "fragment"
                }
            },
            "source": [
                ">>> sig.parameters['a'].kind"
            ],
            "outputs": [],
            "execution_count": null
        },
        {
            "cell_type": "markdown",
            "metadata": {
                "scrolled": true,
                "slideshow": {
                    "slide_type": "subslide"
                }
            },
            "source": [
                "## Signatures\n",
                "\n",
                "- On peut aussi conna\u00eetre la valeur par d\u00e9faut d'un param\u00e8tre"
            ]
        },
        {
            "cell_type": "code",
            "metadata": {
                "scrolled": true,
                "slideshow": {
                    "slide_type": "-"
                }
            },
            "source": [
                ">>> sigmul = inspect.signature(multiplication)\n",
                ">>> sigmul.parameters['b']"
            ],
            "outputs": [],
            "execution_count": null
        },
        {
            "cell_type": "code",
            "metadata": {
                "scrolled": true,
                "slideshow": {
                    "slide_type": "fragment"
                }
            },
            "source": [
                ">>> sigmul.parameters['b'].default"
            ],
            "outputs": [],
            "execution_count": null
        },
        {
            "cell_type": "markdown",
            "metadata": {
                "scrolled": true,
                "slideshow": {
                    "slide_type": "subslide"
                }
            },
            "source": [
                "## Binding\n",
                "\n",
                "- On peut utiliser une signature pour r\u00e9aliser un _binding_ sur des arguments\n",
                "- C'est-\u00e0-dire faire la correspondance entre les arguments et les param\u00e8tres"
            ]
        },
        {
            "cell_type": "code",
            "metadata": {
                "scrolled": true,
                "slideshow": {
                    "slide_type": "-"
                }
            },
            "source": [
                ">>> binding = sig.bind(3, b=5)\n",
                ">>> binding"
            ],
            "outputs": [],
            "execution_count": null
        },
        {
            "cell_type": "code",
            "metadata": {
                "scrolled": true,
                "slideshow": {
                    "slide_type": "fragment"
                }
            },
            "source": [
                ">>> binding.arguments"
            ],
            "outputs": [],
            "execution_count": null
        },
        {
            "cell_type": "code",
            "metadata": {
                "scrolled": true,
                "slideshow": {
                    "slide_type": "fragment"
                }
            },
            "source": [
                ">>> binding.args, binding.kwargs"
            ],
            "outputs": [],
            "execution_count": null
        },
        {
            "cell_type": "markdown",
            "metadata": {
                "scrolled": true,
                "slideshow": {
                    "slide_type": "fragment"
                }
            },
            "source": [
                "- C'est une mani\u00e8re de normaliser les arguments pass\u00e9s lors d'un appel\n",
                "    - Tous ceux qui peuvent \u00eatre positionnels sont stock\u00e9s dans `args` et les autres dans `kwargs`"
            ]
        },
        {
            "cell_type": "markdown",
            "metadata": {
                "scrolled": true,
                "slideshow": {
                    "slide_type": "subslide"
                }
            },
            "source": [
                "## Binding\n",
                "\n",
                "- Les m\u00eames v\u00e9rifications ont lieu que lors d'un appel\n",
                "- Il faut ainsi pr\u00e9ciser tous les arguments n\u00e9cessaires \u00e0 l'appel"
            ]
        },
        {
            "cell_type": "code",
            "metadata": {
                "scrolled": true,
                "slideshow": {
                    "slide_type": "-"
                }
            },
            "source": [
                ">>> sig.bind(5)"
            ],
            "outputs": [],
            "execution_count": null
        },
        {
            "cell_type": "markdown",
            "metadata": {
                "scrolled": true,
                "slideshow": {
                    "slide_type": "subslide"
                }
            },
            "source": [
                "## Binding\n",
                "\n",
                "- Il est aussi possible d'appliquer les valeurs par d\u00e9faut des param\u00e8tres sur un _binding_"
            ]
        },
        {
            "cell_type": "code",
            "metadata": {
                "scrolled": true,
                "slideshow": {
                    "slide_type": "-"
                }
            },
            "source": [
                ">>> binding = sigmul.bind(10)\n",
                ">>> binding"
            ],
            "outputs": [],
            "execution_count": null
        },
        {
            "cell_type": "code",
            "metadata": {
                "scrolled": true,
                "slideshow": {
                    "slide_type": "-"
                }
            },
            "source": [
                ">>> binding.apply_defaults()\n",
                ">>> binding"
            ],
            "outputs": [],
            "execution_count": null
        },
        {
            "cell_type": "markdown",
            "metadata": {
                "scrolled": true,
                "slideshow": {
                    "slide_type": "subslide"
                }
            },
            "source": [
                "## Modification de signature\n",
                "\n",
                "- L'objet signature en lui-m\u00eame est inalt\u00e9rable\n",
                "- Mais il poss\u00e8de une m\u00e9thode `replace` pour en cr\u00e9er une copie modifi\u00e9e"
            ]
        },
        {
            "cell_type": "code",
            "metadata": {
                "scrolled": true,
                "slideshow": {
                    "slide_type": "fragment"
                }
            },
            "source": [
                ">>> sig.replace(parameters=[])"
            ],
            "outputs": [],
            "execution_count": null
        },
        {
            "cell_type": "markdown",
            "metadata": {
                "scrolled": true,
                "slideshow": {
                    "slide_type": "subslide"
                }
            },
            "source": [
                "## Modification de signature\n",
                "\n",
                "- Il en est de m\u00eame pour les objets repr\u00e9sentant les param\u00e8tres"
            ]
        },
        {
            "cell_type": "code",
            "metadata": {
                "scrolled": true,
                "slideshow": {
                    "slide_type": "-"
                }
            },
            "source": [
                ">>> from inspect import Parameter\n",
                ">>> sig.parameters['a'].replace(kind=Parameter.POSITIONAL_ONLY)"
            ],
            "outputs": [],
            "execution_count": null
        },
        {
            "cell_type": "markdown",
            "metadata": {
                "scrolled": true,
                "slideshow": {
                    "slide_type": "subslide"
                }
            },
            "source": [
                "## Modification de signature\n",
                "\n",
                "- On peut alors d\u00e9river notre signature pour n'accepter que les arguments positionnels"
            ]
        },
        {
            "cell_type": "code",
            "metadata": {
                "scrolled": true,
                "slideshow": {
                    "slide_type": "-"
                }
            },
            "source": [
                ">>> newsig = sig.replace(parameters=[p.replace(kind=Parameter.POSITIONAL_ONLY) for p in sig.parameters.values()])\n",
                ">>> newsig"
            ],
            "outputs": [],
            "execution_count": null
        },
        {
            "cell_type": "code",
            "metadata": {
                "scrolled": true,
                "slideshow": {
                    "slide_type": "fragment"
                }
            },
            "source": [
                ">>> newsig.bind(1, 2)"
            ],
            "outputs": [],
            "execution_count": null
        },
        {
            "cell_type": "code",
            "metadata": {
                "scrolled": true,
                "slideshow": {
                    "slide_type": "fragment"
                }
            },
            "source": [
                ">>> newsig.bind(a=1, b=2)"
            ],
            "outputs": [],
            "execution_count": null
        },
        {
            "cell_type": "markdown",
            "metadata": {
                "scrolled": true,
                "slideshow": {
                    "slide_type": "subslide"
                }
            },
            "source": [
                "## Modification\n",
                "\n",
                "- On peut ensuite assigner la nouvelle signature \u00e0 l'attribut `__signature__` de la fonction"
            ]
        },
        {
            "cell_type": "code",
            "metadata": {
                "scrolled": true,
                "slideshow": {
                    "slide_type": "-"
                }
            },
            "source": [
                ">>> addition.__signature__ = newsig"
            ],
            "outputs": [],
            "execution_count": null
        },
        {
            "cell_type": "markdown",
            "metadata": {
                "scrolled": true,
                "slideshow": {
                    "slide_type": "fragment"
                }
            },
            "source": [
                "- Cela change bien la signature renvoy\u00e9e par `inspect.signature`"
            ]
        },
        {
            "cell_type": "code",
            "metadata": {
                "scrolled": true,
                "slideshow": {
                    "slide_type": "-"
                }
            },
            "source": [
                ">>> inspect.signature(addition)"
            ],
            "outputs": [],
            "execution_count": null
        },
        {
            "cell_type": "markdown",
            "metadata": {
                "scrolled": true,
                "slideshow": {
                    "slide_type": "fragment"
                }
            },
            "source": [
                "- Mais n'affecte pas le comportement r\u00e9el de la fonction"
            ]
        },
        {
            "cell_type": "code",
            "metadata": {
                "scrolled": true,
                "slideshow": {
                    "slide_type": "-"
                }
            },
            "source": [
                ">>> addition(a=1, b=2)"
            ],
            "outputs": [],
            "execution_count": null
        },
        {
            "cell_type": "markdown",
            "metadata": {
                "scrolled": true,
                "slideshow": {
                    "slide_type": "subslide"
                }
            },
            "source": [
                "## Annotations\n",
                "\n",
                "- La signature d'une fonction comprend aussi les annotations de param\u00e8tres et de retour\n",
                "- Les annotations permettent de pr\u00e9ciser les types attendus"
            ]
        },
        {
            "cell_type": "code",
            "metadata": {
                "scrolled": true,
                "slideshow": {
                    "slide_type": "-"
                }
            },
            "source": [
                "def addition(a: int, b: int) -> int:\n",
                "    return a + b"
            ],
            "outputs": [],
            "execution_count": null
        },
        {
            "cell_type": "code",
            "metadata": {
                "scrolled": true,
                "slideshow": {
                    "slide_type": "fragment"
                }
            },
            "source": [
                ">>> sig = inspect.signature(addition)\n",
                ">>> sig"
            ],
            "outputs": [],
            "execution_count": null
        },
        {
            "cell_type": "markdown",
            "metadata": {
                "scrolled": true,
                "slideshow": {
                    "slide_type": "subslide"
                }
            },
            "source": [
                "## Annotations\n",
                "\n",
                "- Les annotations sont expos\u00e9es dans les attributs de la signature"
            ]
        },
        {
            "cell_type": "code",
            "metadata": {
                "scrolled": true,
                "slideshow": {
                    "slide_type": "-"
                }
            },
            "source": [
                ">>> sig.return_annotation"
            ],
            "outputs": [],
            "execution_count": null
        },
        {
            "cell_type": "code",
            "metadata": {
                "scrolled": true,
                "slideshow": {
                    "slide_type": "-"
                }
            },
            "source": [
                ">>> sig.parameters['a'].annotation"
            ],
            "outputs": [],
            "execution_count": null
        },
        {
            "cell_type": "markdown",
            "metadata": {
                "scrolled": true,
                "slideshow": {
                    "slide_type": "subslide"
                }
            },
            "source": [
                "## Annotations\n",
                "\n",
                "- Elles sont aussi expos\u00e9es dans l'attribut sp\u00e9cial `__annotations__` de la fonction"
            ]
        },
        {
            "cell_type": "code",
            "metadata": {
                "scrolled": true,
                "slideshow": {
                    "slide_type": "-"
                }
            },
            "source": [
                ">>> addition.__annotations__"
            ],
            "outputs": [],
            "execution_count": null
        },
        {
            "cell_type": "markdown",
            "metadata": {
                "scrolled": true,
                "slideshow": {
                    "slide_type": "-"
                }
            },
            "source": [
                "- Ainsi que via `inspect.get_annotations`"
            ]
        },
        {
            "cell_type": "code",
            "metadata": {
                "scrolled": true,
                "slideshow": {
                    "slide_type": "-"
                }
            },
            "source": [
                ">>> inspect.get_annotations(addition)"
            ],
            "outputs": [],
            "execution_count": null
        },
        {
            "cell_type": "markdown",
            "metadata": {
                "scrolled": true,
                "slideshow": {
                    "slide_type": "subslide"
                }
            },
            "source": [
                "## Annotations\n",
                "\n",
                "- `inspect.get_annotations` est pr\u00e9f\u00e9rable\n",
                "    - Elle g\u00e8re les cas d'absence de `__annotations__` sur l'objet et diff\u00e9rents probl\u00e8mes potentiels\n",
                "    - Elle permet l'\u00e9valuation dynamique des annotations"
            ]
        },
        {
            "cell_type": "markdown",
            "metadata": {
                "scrolled": true,
                "slideshow": {
                    "slide_type": "subslide"
                }
            },
            "source": [
                "## Annotations"
            ]
        },
        {
            "cell_type": "code",
            "metadata": {
                "scrolled": true,
                "slideshow": {
                    "slide_type": "-"
                }
            },
            "source": [
                "def addition(a: \"int\", b: \"int\") -> \"int\":\n",
                "    return a + b"
            ],
            "outputs": [],
            "execution_count": null
        },
        {
            "cell_type": "code",
            "metadata": {
                "scrolled": true,
                "slideshow": {
                    "slide_type": "-"
                }
            },
            "source": [
                ">>> addition.__annotations__"
            ],
            "outputs": [],
            "execution_count": null
        },
        {
            "cell_type": "code",
            "metadata": {
                "scrolled": true,
                "slideshow": {
                    "slide_type": "-"
                }
            },
            "source": [
                ">>> inspect.get_annotations(addition)"
            ],
            "outputs": [],
            "execution_count": null
        },
        {
            "cell_type": "code",
            "metadata": {
                "scrolled": true,
                "slideshow": {
                    "slide_type": "fragment"
                }
            },
            "source": [
                ">>> inspect.get_annotations(addition, eval_str=True)"
            ],
            "outputs": [],
            "execution_count": null
        },
        {
            "cell_type": "markdown",
            "metadata": {
                "scrolled": true,
                "slideshow": {
                    "slide_type": "subslide"
                }
            },
            "source": [
                "## Documentation\n",
                "\n",
                "- La documentation permet d'expliciter le comportement d'une fonction\n",
                "- Cela se fait en Python \u00e0 l'aide de docstrings"
            ]
        },
        {
            "cell_type": "code",
            "metadata": {
                "scrolled": true,
                "slideshow": {
                    "slide_type": "-"
                }
            },
            "source": [
                "def addition(a: int, b: int) -> int:\n",
                "    \"Return the sum of two integers\"\n",
                "    return a + b"
            ],
            "outputs": [],
            "execution_count": null
        },
        {
            "cell_type": "markdown",
            "metadata": {
                "scrolled": true,
                "slideshow": {
                    "slide_type": "-"
                }
            },
            "source": [
                "- Celle-ci n'est pas expos\u00e9e dans la signature"
            ]
        },
        {
            "cell_type": "markdown",
            "metadata": {
                "scrolled": true,
                "slideshow": {
                    "slide_type": "subslide"
                }
            },
            "source": [
                "## Documentation\n",
                "\n",
                "- La docstring est expos\u00e9e dans l'argument `__doc__` de la fonction"
            ]
        },
        {
            "cell_type": "code",
            "metadata": {
                "scrolled": true,
                "slideshow": {
                    "slide_type": "-"
                }
            },
            "source": [
                ">>> addition.__doc__"
            ],
            "outputs": [],
            "execution_count": null
        },
        {
            "cell_type": "markdown",
            "metadata": {
                "scrolled": true,
                "slideshow": {
                    "slide_type": "-"
                }
            },
            "source": [
                "- Ou via `inspect.getdoc`"
            ]
        },
        {
            "cell_type": "code",
            "metadata": {
                "scrolled": true,
                "slideshow": {
                    "slide_type": "-"
                }
            },
            "source": [
                ">>> inspect.getdoc(addition)"
            ],
            "outputs": [],
            "execution_count": null
        },
        {
            "cell_type": "markdown",
            "metadata": {
                "scrolled": true,
                "slideshow": {
                    "slide_type": "subslide"
                }
            },
            "source": [
                "## Documentation\n",
                "\n",
                "- Cette derni\u00e8re est pr\u00e9f\u00e9rable pour un meilleur formattage"
            ]
        },
        {
            "cell_type": "code",
            "metadata": {
                "scrolled": true,
                "slideshow": {
                    "slide_type": "-"
                }
            },
            "source": [
                "def function():\n",
                "    \"\"\"\n",
                "    Docstring of the function\n",
                "    on multiple lines\n",
                "    \"\"\""
            ],
            "outputs": [],
            "execution_count": null
        },
        {
            "cell_type": "code",
            "metadata": {
                "scrolled": true,
                "slideshow": {
                    "slide_type": "-"
                }
            },
            "source": [
                ">>> function.__doc__"
            ],
            "outputs": [],
            "execution_count": null
        },
        {
            "cell_type": "code",
            "metadata": {
                "scrolled": true,
                "slideshow": {
                    "slide_type": "-"
                }
            },
            "source": [
                ">>> inspect.getdoc(function)"
            ],
            "outputs": [],
            "execution_count": null
        },
        {
            "cell_type": "markdown",
            "metadata": {
                "scrolled": true,
                "slideshow": {
                    "slide_type": "slide"
                }
            },
            "source": [
                "# D\u00e9corateurs"
            ]
        },
        {
            "cell_type": "markdown",
            "metadata": {
                "scrolled": true,
                "slideshow": {
                    "slide_type": "subslide"
                }
            },
            "source": [
                "## D\u00e9corateurs\n",
                "\n",
                "- Les d\u00e9corateurs sont un m\u00e9canisme permettant de transformer des callables\n",
                "- Ils s'appliquent \u00e0 des fonctions pour en modifier le comportement"
            ]
        },
        {
            "cell_type": "code",
            "metadata": {
                "scrolled": true,
                "slideshow": {
                    "slide_type": "fragment"
                }
            },
            "source": [
                "import functools\n",
                "\n",
                "@functools.cache\n",
                "def addition(a, b):\n",
                "    print(f'Computing {a}+{b}')\n",
                "    return a + b"
            ],
            "outputs": [],
            "execution_count": null
        },
        {
            "cell_type": "code",
            "metadata": {
                "scrolled": true,
                "slideshow": {
                    "slide_type": "-"
                }
            },
            "source": [
                ">>> addition(3, 5)"
            ],
            "outputs": [],
            "execution_count": null
        },
        {
            "cell_type": "code",
            "metadata": {
                "scrolled": true,
                "slideshow": {
                    "slide_type": "-"
                }
            },
            "source": [
                ">>> addition(1, 2)"
            ],
            "outputs": [],
            "execution_count": null
        },
        {
            "cell_type": "markdown",
            "metadata": {
                "scrolled": true,
                "slideshow": {
                    "slide_type": "subslide"
                }
            },
            "source": [
                "## D\u00e9corateurs\n",
                "\n",
                "- `functools.cache` a remplac\u00e9 `addition` par une nouvelle fonction avec un m\u00e9canisme de cache"
            ]
        },
        {
            "cell_type": "markdown",
            "metadata": {
                "scrolled": true,
                "slideshow": {
                    "slide_type": "fragment"
                }
            },
            "source": [
                "- La syntaxe pr\u00e9c\u00e9dente est \u00e9quivalente \u00e0\u00a0:"
            ]
        },
        {
            "cell_type": "code",
            "metadata": {
                "scrolled": true,
                "slideshow": {
                    "slide_type": "-"
                }
            },
            "source": [
                "def addition(a, b):\n",
                "    print(f'Computing {a}+{b}')\n",
                "    return a + b\n",
                "\n",
                "addition = functools.cache(addition)"
            ],
            "outputs": [],
            "execution_count": null
        },
        {
            "cell_type": "markdown",
            "metadata": {
                "scrolled": true,
                "slideshow": {
                    "slide_type": "subslide"
                }
            },
            "source": [
                "## D\u00e9corateurs\n",
                "\n",
                "- On peut aussi appliquer plusieurs d\u00e9corateurs \u00e0 la suite\n",
                "\n",
                "    ```python\n",
                "    @deco1\n",
                "    @deco2\n",
                "    def function():\n",
                "        ...\n",
                "    ```"
            ]
        },
        {
            "cell_type": "markdown",
            "metadata": {
                "scrolled": true,
                "slideshow": {
                    "slide_type": "fragment"
                }
            },
            "source": [
                "- Qui est \u00e9quivalent \u00e0\u00a0:\n",
                "\n",
                "    ```python\n",
                "    def function():\n",
                "        ...\n",
                "\n",
                "    function = deco1(deco2(function))\n",
                "    ```"
            ]
        },
        {
            "cell_type": "markdown",
            "metadata": {
                "scrolled": true,
                "slideshow": {
                    "slide_type": "subslide"
                }
            },
            "source": [
                "## \u00c9criture de d\u00e9corateurs\n",
                "\n",
                "- Un d\u00e9corateur est donc un callable qui re\u00e7oit un callable et renvoie un callable"
            ]
        },
        {
            "cell_type": "markdown",
            "metadata": {
                "scrolled": true,
                "slideshow": {
                    "slide_type": "fragment"
                }
            },
            "source": [
                "- \ud83e\udd2f"
            ]
        },
        {
            "cell_type": "code",
            "metadata": {
                "scrolled": true,
                "slideshow": {
                    "slide_type": "fragment"
                }
            },
            "source": [
                "def decorator(func):\n",
                "    return func"
            ],
            "outputs": [],
            "execution_count": null
        },
        {
            "cell_type": "code",
            "metadata": {
                "scrolled": true,
                "slideshow": {
                    "slide_type": "fragment"
                }
            },
            "source": [
                "@decorator\n",
                "def addition(a, b):\n",
                "    return a + b"
            ],
            "outputs": [],
            "execution_count": null
        },
        {
            "cell_type": "code",
            "metadata": {
                "scrolled": true,
                "slideshow": {
                    "slide_type": "-"
                }
            },
            "source": [
                ">>> addition(3, 5)"
            ],
            "outputs": [],
            "execution_count": null
        },
        {
            "cell_type": "markdown",
            "metadata": {
                "scrolled": true,
                "slideshow": {
                    "slide_type": "subslide"
                }
            },
            "source": [
                "## \u00c9criture de d\u00e9corateurs\n",
                "\n",
                "- Pour changer le comportement de la fonction d\u00e9cor\u00e9e, il faut cr\u00e9er une nouvelle fonction reprenant son interface"
            ]
        },
        {
            "cell_type": "code",
            "metadata": {
                "scrolled": true,
                "slideshow": {
                    "slide_type": "-"
                }
            },
            "source": [
                "def decorator(func):\n",
                "    def wrapper(*args, **kwargs):\n",
                "        print('Calling decorated function')\n",
                "        return func(*args, **kwargs)\n",
                "    return wrapper"
            ],
            "outputs": [],
            "execution_count": null
        },
        {
            "cell_type": "code",
            "metadata": {
                "scrolled": true,
                "slideshow": {
                    "slide_type": "-"
                }
            },
            "source": [
                "@decorator\n",
                "def addition(a, b):\n",
                "    return a + b"
            ],
            "outputs": [],
            "execution_count": null
        },
        {
            "cell_type": "code",
            "metadata": {
                "scrolled": true,
                "slideshow": {
                    "slide_type": "-"
                }
            },
            "source": [
                ">>> addition(3, 5)"
            ],
            "outputs": [],
            "execution_count": null
        },
        {
            "cell_type": "markdown",
            "metadata": {
                "scrolled": true,
                "slideshow": {
                    "slide_type": "subslide"
                }
            },
            "source": [
                "## \u00c9criture de d\u00e9corateurs\n",
                "\n",
                "- `functools.cache` pourrait \u00eatre r\u00e9\u00e9crit ainsi"
            ]
        },
        {
            "cell_type": "code",
            "metadata": {
                "scrolled": true,
                "slideshow": {
                    "slide_type": "-"
                }
            },
            "source": [
                "def cache(func):\n",
                "    func_cache = {}\n",
                "\n",
                "    def wrapper(*args, **kwargs):\n",
                "        # make an hashable key\n",
                "        key = args, tuple(kwargs.items())\n",
                "        if key not in func_cache:\n",
                "            func_cache[key] = func(*args, **kwargs)\n",
                "        return func_cache[key]\n",
                "\n",
                "    return wrapper"
            ],
            "outputs": [],
            "execution_count": null
        },
        {
            "cell_type": "code",
            "metadata": {
                "scrolled": true,
                "slideshow": {
                    "slide_type": "fragment"
                }
            },
            "source": [
                "@cache\n",
                "def addition(a, b):\n",
                "    print(f'Computing {a}+{b}')\n",
                "    return a + b"
            ],
            "outputs": [],
            "execution_count": null
        },
        {
            "cell_type": "code",
            "metadata": {
                "scrolled": true,
                "slideshow": {
                    "slide_type": "-"
                }
            },
            "source": [
                ">>> addition(3, 5)"
            ],
            "outputs": [],
            "execution_count": null
        },
        {
            "cell_type": "markdown",
            "metadata": {
                "scrolled": true,
                "slideshow": {
                    "slide_type": "subslide"
                }
            },
            "source": [
                "## D\u00e9corateurs param\u00e9tr\u00e9s\n",
                "\n",
                "- Un d\u00e9corateur ne peut pas \u00eatre param\u00e9tr\u00e9 \u00e0 proprement parler"
            ]
        },
        {
            "cell_type": "markdown",
            "metadata": {
                "scrolled": true,
                "slideshow": {
                    "slide_type": "fragment"
                }
            },
            "source": [
                "- Mais on peut appeler une fonction renvoyant un d\u00e9corateur"
            ]
        },
        {
            "cell_type": "code",
            "metadata": {
                "scrolled": true,
                "slideshow": {
                    "slide_type": "-"
                }
            },
            "source": [
                "@functools.lru_cache(maxsize=1)\n",
                "def addition(a, b):\n",
                "    print(f'Computing {a}+{b}')\n",
                "    return a + b"
            ],
            "outputs": [],
            "execution_count": null
        },
        {
            "cell_type": "code",
            "metadata": {
                "scrolled": true,
                "slideshow": {
                    "slide_type": "-"
                }
            },
            "source": [
                ">>> addition(3, 5)"
            ],
            "outputs": [],
            "execution_count": null
        },
        {
            "cell_type": "code",
            "metadata": {
                "scrolled": true,
                "slideshow": {
                    "slide_type": "-"
                }
            },
            "source": [
                ">>> addition(1, 2)"
            ],
            "outputs": [],
            "execution_count": null
        },
        {
            "cell_type": "markdown",
            "metadata": {
                "scrolled": true,
                "slideshow": {
                    "slide_type": "subslide"
                }
            },
            "source": [
                "## D\u00e9corateurs param\u00e9tr\u00e9s\n",
                "\n",
                "- Un d\u00e9corateur param\u00e9tr\u00e9 est ainsi un callable renvoyant un callable recevant un callable et renvoyant \u00e0 nouveau un callable"
            ]
        },
        {
            "cell_type": "markdown",
            "metadata": {
                "scrolled": true,
                "slideshow": {
                    "slide_type": "fragment"
                }
            },
            "source": [
                "- \ud83e\udd2f \ud83e\udd2f \ud83e\udd2f"
            ]
        },
        {
            "cell_type": "code",
            "metadata": {
                "scrolled": true,
                "slideshow": {
                    "slide_type": "fragment"
                }
            },
            "source": [
                "def param_decorator(n):\n",
                "    def decorator(func):\n",
                "        def wrapper(*args, **kwargs):\n",
                "            print(f'Function decorated with {n}')\n",
                "            return func(*args, **kwargs)\n",
                "        return wrapper\n",
                "    return decorator"
            ],
            "outputs": [],
            "execution_count": null
        },
        {
            "cell_type": "code",
            "metadata": {
                "scrolled": true,
                "slideshow": {
                    "slide_type": "-"
                }
            },
            "source": [
                "@param_decorator(42)\n",
                "def function():\n",
                "    ..."
            ],
            "outputs": [],
            "execution_count": null
        },
        {
            "cell_type": "code",
            "metadata": {
                "scrolled": true,
                "slideshow": {
                    "slide_type": "-"
                }
            },
            "source": [
                ">>> function()"
            ],
            "outputs": [],
            "execution_count": null
        },
        {
            "cell_type": "markdown",
            "metadata": {
                "scrolled": true,
                "slideshow": {
                    "slide_type": "slide"
                }
            },
            "source": [
                "# Outils"
            ]
        },
        {
            "cell_type": "markdown",
            "metadata": {
                "scrolled": true,
                "slideshow": {
                    "slide_type": "subslide"
                }
            },
            "source": [
                "## Outils\n",
                "\n",
                "- Python propose diff\u00e9rents outils autour des callables\n",
                "- Afin de les identifier et les manipuler"
            ]
        },
        {
            "cell_type": "markdown",
            "metadata": {
                "scrolled": true,
                "slideshow": {
                    "slide_type": "subslide"
                }
            },
            "source": [
                "## Builtins\n",
                "\n",
                "- La fonction `callable` permet de savoir si un objet est _callable_"
            ]
        },
        {
            "cell_type": "code",
            "metadata": {
                "scrolled": true,
                "slideshow": {
                    "slide_type": "fragment"
                }
            },
            "source": [
                ">>> callable(len)"
            ],
            "outputs": [],
            "execution_count": null
        },
        {
            "cell_type": "code",
            "metadata": {
                "scrolled": true,
                "slideshow": {
                    "slide_type": "fragment"
                }
            },
            "source": [
                ">>> callable(str)"
            ],
            "outputs": [],
            "execution_count": null
        },
        {
            "cell_type": "code",
            "metadata": {
                "scrolled": true,
                "slideshow": {
                    "slide_type": "fragment"
                }
            },
            "source": [
                ">>> callable(str.replace)"
            ],
            "outputs": [],
            "execution_count": null
        },
        {
            "cell_type": "code",
            "metadata": {
                "scrolled": true,
                "slideshow": {
                    "slide_type": "fragment"
                }
            },
            "source": [
                ">>> callable(lambda: True)"
            ],
            "outputs": [],
            "execution_count": null
        },
        {
            "cell_type": "code",
            "metadata": {
                "scrolled": true,
                "slideshow": {
                    "slide_type": "fragment"
                }
            },
            "source": [
                ">>> callable(5)"
            ],
            "outputs": [],
            "execution_count": null
        },
        {
            "cell_type": "markdown",
            "metadata": {
                "scrolled": true,
                "slideshow": {
                    "slide_type": "subslide"
                }
            },
            "source": [
                "## Module functools\n",
                "\n",
                "- On a vu `functools.partial` pour l'application partielle\n",
                "- Elle g\u00e8re les arguments positionnels et nomm\u00e9s"
            ]
        },
        {
            "cell_type": "code",
            "metadata": {
                "scrolled": true,
                "slideshow": {
                    "slide_type": "-"
                }
            },
            "source": [
                "import functools\n",
                "\n",
                "debug = functools.partial(print, '[DEBUG]', sep=' - ')"
            ],
            "outputs": [],
            "execution_count": null
        },
        {
            "cell_type": "code",
            "metadata": {
                "scrolled": true,
                "slideshow": {
                    "slide_type": "-"
                }
            },
            "source": [
                "debug(1, 2, 3)"
            ],
            "outputs": [],
            "execution_count": null
        },
        {
            "cell_type": "markdown",
            "metadata": {
                "scrolled": true,
                "slideshow": {
                    "slide_type": "subslide"
                }
            },
            "source": [
                "## Module functools\n",
                "\n",
                "- On a \u00e9crit plus t\u00f4t des d\u00e9corateurs qui enrobaient nos fonctions"
            ]
        },
        {
            "cell_type": "code",
            "metadata": {
                "scrolled": true,
                "slideshow": {
                    "slide_type": "-"
                }
            },
            "source": [
                "@decorator\n",
                "def addition(a: int, b: int) -> int:\n",
                "    \"Return the sum of two integers\"\n",
                "    return a + b"
            ],
            "outputs": [],
            "execution_count": null
        },
        {
            "cell_type": "markdown",
            "metadata": {
                "scrolled": true,
                "slideshow": {
                    "slide_type": "fragment"
                }
            },
            "source": [
                "- Le probl\u00e8me est qu'on perd la signature et la documentation de la fonction initiale"
            ]
        },
        {
            "cell_type": "code",
            "metadata": {
                "scrolled": true,
                "slideshow": {
                    "slide_type": "-"
                }
            },
            "source": [
                ">>> inspect.signature(addition)"
            ],
            "outputs": [],
            "execution_count": null
        },
        {
            "cell_type": "code",
            "metadata": {
                "scrolled": true,
                "slideshow": {
                    "slide_type": "-"
                }
            },
            "source": [
                ">>> inspect.getdoc(addition)"
            ],
            "outputs": [],
            "execution_count": null
        },
        {
            "cell_type": "markdown",
            "metadata": {
                "scrolled": true,
                "slideshow": {
                    "slide_type": "subslide"
                }
            },
            "source": [
                "## Module functools\n",
                "\n",
                "- On pourrait copier manuellement `__doc__`, `__signature__` et autres"
            ]
        },
        {
            "cell_type": "markdown",
            "metadata": {
                "scrolled": true,
                "slideshow": {
                    "slide_type": "fragment"
                }
            },
            "source": [
                "- Mais `functools` fournit une fonction `update_wrapper` pour faire cela plus simplement"
            ]
        },
        {
            "cell_type": "code",
            "metadata": {
                "scrolled": true,
                "slideshow": {
                    "slide_type": "-"
                }
            },
            "source": [
                "def decorator(func):\n",
                "    def wrapper(*args, **kwargs):\n",
                "        print('Calling decorated function')\n",
                "        return func(*args, **kwargs)\n",
                "    functools.update_wrapper(wrapper, func)\n",
                "    return wrapper"
            ],
            "outputs": [],
            "execution_count": null
        },
        {
            "cell_type": "markdown",
            "metadata": {
                "scrolled": true,
                "slideshow": {
                    "slide_type": "subslide"
                }
            },
            "source": [
                "## Module functools"
            ]
        },
        {
            "cell_type": "code",
            "metadata": {
                "scrolled": true,
                "slideshow": {
                    "slide_type": "-"
                }
            },
            "source": [
                "@decorator\n",
                "def addition(a: int, b: int) -> int:\n",
                "    \"Return the sum of two integers\"\n",
                "    return a + b"
            ],
            "outputs": [],
            "execution_count": null
        },
        {
            "cell_type": "code",
            "metadata": {
                "scrolled": true,
                "slideshow": {
                    "slide_type": "-"
                }
            },
            "source": [
                ">>> inspect.signature(addition)"
            ],
            "outputs": [],
            "execution_count": null
        },
        {
            "cell_type": "code",
            "metadata": {
                "scrolled": true,
                "slideshow": {
                    "slide_type": "-"
                }
            },
            "source": [
                ">>> inspect.getdoc(addition)"
            ],
            "outputs": [],
            "execution_count": null
        },
        {
            "cell_type": "markdown",
            "metadata": {
                "scrolled": true,
                "slideshow": {
                    "slide_type": "subslide"
                }
            },
            "source": [
                "## Module functools\n",
                "\n",
                "- Cela fonctionne entre-autres en assignant un attribut `__wrapped__` \u00e0 notre fonction"
            ]
        },
        {
            "cell_type": "code",
            "metadata": {
                "scrolled": true,
                "slideshow": {
                    "slide_type": "-"
                }
            },
            "source": [
                ">>> addition.__wrapped__"
            ],
            "outputs": [],
            "execution_count": null
        },
        {
            "cell_type": "markdown",
            "metadata": {
                "scrolled": true,
                "slideshow": {
                    "slide_type": "subslide"
                }
            },
            "source": [
                "## Module functools\n",
                "\n",
                "- `functools` poss\u00e8de aussi un d\u00e9corateur `wraps` pour faciliter cela"
            ]
        },
        {
            "cell_type": "code",
            "metadata": {
                "scrolled": true,
                "slideshow": {
                    "slide_type": "-"
                }
            },
            "source": [
                "def decorator(func):\n",
                "    @functools.wraps(func)\n",
                "    def wrapper(*args, **kwargs):\n",
                "        print('Calling decorated function')\n",
                "        return func(*args, **kwargs)\n",
                "    return wrapper"
            ],
            "outputs": [],
            "execution_count": null
        },
        {
            "cell_type": "markdown",
            "metadata": {
                "scrolled": true,
                "slideshow": {
                    "slide_type": "subslide"
                }
            },
            "source": [
                "## Module operator\n",
                "\n",
                "- Le module `operator` expose les diff\u00e9rents op\u00e9rateurs du langage\n",
                "- `operator.call` permet notamment d'appeler un callable (Python 3.11)"
            ]
        },
        {
            "cell_type": "code",
            "metadata": {
                "scrolled": true,
                "slideshow": {
                    "slide_type": "-"
                }
            },
            "source": [
                ">>> import operator\n",
                ">>> operator.call(addition, 1, 2)"
            ],
            "outputs": [],
            "execution_count": null
        },
        {
            "cell_type": "markdown",
            "metadata": {
                "scrolled": true,
                "slideshow": {
                    "slide_type": "subslide"
                }
            },
            "source": [
                "## Module operator\n",
                "\n",
                "- La fonction `itemgetter` renvoie un callable pour r\u00e9cup\u00e9rer un \u00e9l\u00e9ment d'un conteneur donn\u00e9"
            ]
        },
        {
            "cell_type": "code",
            "metadata": {
                "scrolled": true,
                "slideshow": {
                    "slide_type": "-"
                }
            },
            "source": [
                ">>> get_name = operator.itemgetter('name')\n",
                ">>> get_name({'name': 'John'})"
            ],
            "outputs": [],
            "execution_count": null
        },
        {
            "cell_type": "code",
            "metadata": {
                "scrolled": true,
                "slideshow": {
                    "slide_type": "fragment"
                }
            },
            "source": [
                ">>> get_fullname = operator.itemgetter('firstname', 'lastname')\n",
                ">>> get_fullname({'firstname': 'Jude', 'lastname': 'Doe'})"
            ],
            "outputs": [],
            "execution_count": null
        },
        {
            "cell_type": "markdown",
            "metadata": {
                "scrolled": true,
                "slideshow": {
                    "slide_type": "subslide"
                }
            },
            "source": [
                "## Module operator\n",
                "\n",
                "- Ainsi que la fonction `attrgetter` pour r\u00e9cup\u00e9rer un attribut"
            ]
        },
        {
            "cell_type": "code",
            "metadata": {
                "scrolled": true,
                "slideshow": {
                    "slide_type": "-"
                }
            },
            "source": [
                ">>> get_module = operator.attrgetter('__module__')\n",
                ">>> get_module(int)"
            ],
            "outputs": [],
            "execution_count": null
        },
        {
            "cell_type": "markdown",
            "metadata": {
                "scrolled": true,
                "slideshow": {
                    "slide_type": "subslide"
                }
            },
            "source": [
                "## Module operator\n",
                "\n",
                "- Et `methodcaller` pour appeler une m\u00e9thode sur un objet donn\u00e9"
            ]
        },
        {
            "cell_type": "code",
            "metadata": {
                "scrolled": true,
                "slideshow": {
                    "slide_type": "-"
                }
            },
            "source": [
                ">>> replace = operator.methodcaller('replace', 'o', 'a')\n",
                ">>> replace('toto')"
            ],
            "outputs": [],
            "execution_count": null
        },
        {
            "cell_type": "markdown",
            "metadata": {
                "scrolled": true,
                "slideshow": {
                    "slide_type": "subslide"
                }
            },
            "source": [
                "## Module inspect\n",
                "\n",
                "- Et pour rappel le module `inspect` d\u00e9di\u00e9 \u00e0 l'introspection\n",
                "- `inspect.isfunction`\n",
                "- `inspect.getsource`"
            ]
        },
        {
            "cell_type": "markdown",
            "metadata": {
                "scrolled": true,
                "slideshow": {
                    "slide_type": "slide"
                }
            },
            "source": [
                "# Callables"
            ]
        },
        {
            "cell_type": "markdown",
            "metadata": {
                "scrolled": true,
                "slideshow": {
                    "slide_type": "subslide"
                }
            },
            "source": [
                "## Callables\n",
                "\n",
                "- La builtin `callable` permet de tester si un objet est callable"
            ]
        },
        {
            "cell_type": "markdown",
            "metadata": {
                "scrolled": true,
                "slideshow": {
                    "slide_type": "fragment"
                }
            },
            "source": [
                "- Celle-ci v\u00e9rifie qu'un objet poss\u00e8de une m\u00e9thode `__call__`"
            ]
        },
        {
            "cell_type": "markdown",
            "metadata": {
                "scrolled": true,
                "slideshow": {
                    "slide_type": "fragment"
                }
            },
            "source": [
                "- Un callable est ainsi un objet avec une telle m\u00e9thode"
            ]
        },
        {
            "cell_type": "markdown",
            "metadata": {
                "scrolled": true,
                "slideshow": {
                    "slide_type": "subslide"
                }
            },
            "source": [
                "## Callables"
            ]
        },
        {
            "cell_type": "code",
            "metadata": {
                "scrolled": true,
                "slideshow": {
                    "slide_type": "-"
                }
            },
            "source": [
                "class Adder:\n",
                "    def __init__(self, add):\n",
                "        self.add = add\n",
                "\n",
                "    def __call__(self, x):\n",
                "        return self.add + x"
            ],
            "outputs": [],
            "execution_count": null
        },
        {
            "cell_type": "code",
            "metadata": {
                "scrolled": true,
                "slideshow": {
                    "slide_type": "fragment"
                }
            },
            "source": [
                ">>> add_5 = Adder(5)\n",
                ">>> callable(add_5)"
            ],
            "outputs": [],
            "execution_count": null
        },
        {
            "cell_type": "code",
            "metadata": {
                "scrolled": true,
                "slideshow": {
                    "slide_type": "fragment"
                }
            },
            "source": [
                ">>> add_5(3)"
            ],
            "outputs": [],
            "execution_count": null
        },
        {
            "cell_type": "markdown",
            "metadata": {
                "scrolled": true,
                "slideshow": {
                    "slide_type": "subslide"
                }
            },
            "source": [
                "## Construction de callable\n",
                "\n",
                "- On peut alors imaginer construire une fonction \u00e0 partir d'objets callables"
            ]
        },
        {
            "cell_type": "code",
            "metadata": {
                "scrolled": true,
                "slideshow": {
                    "slide_type": "-"
                }
            },
            "source": [
                "class Expr:\n",
                "    def __call__(self, **env):\n",
                "        raise NotImplementedError"
            ],
            "outputs": [],
            "execution_count": null
        },
        {
            "cell_type": "markdown",
            "metadata": {
                "scrolled": true,
                "slideshow": {
                    "slide_type": "subslide"
                }
            },
            "source": [
                "## Construction de callable"
            ]
        },
        {
            "cell_type": "code",
            "metadata": {
                "scrolled": true,
                "slideshow": {
                    "slide_type": "-"
                }
            },
            "source": [
                "class Scalar(Expr):\n",
                "    def __init__(self, value):\n",
                "        self.value = value\n",
                "\n",
                "    def __repr__(self):\n",
                "        return repr(self.value)\n",
                "\n",
                "    def __call__(self, **env):\n",
                "        return self.value"
            ],
            "outputs": [],
            "execution_count": null
        },
        {
            "cell_type": "markdown",
            "metadata": {
                "scrolled": true,
                "slideshow": {
                    "slide_type": "subslide"
                }
            },
            "source": [
                "## Construction de callable"
            ]
        },
        {
            "cell_type": "code",
            "metadata": {
                "scrolled": true,
                "slideshow": {
                    "slide_type": "-"
                }
            },
            "source": [
                "class Operation(Expr):\n",
                "    def __init__(self, op_func, op_repr, *args):\n",
                "        self.func = op_func\n",
                "        self.repr = op_repr\n",
                "        self.args = args\n",
                "\n",
                "    def __repr__(self):\n",
                "        return self.repr(*self.args)\n",
                "\n",
                "    def __call__(self, **env):\n",
                "        values = (arg(**env) for arg in self.args)\n",
                "        return self.func(*values)"
            ],
            "outputs": [],
            "execution_count": null
        },
        {
            "cell_type": "markdown",
            "metadata": {
                "scrolled": true,
                "slideshow": {
                    "slide_type": "subslide"
                }
            },
            "source": [
                "## Construction de callable"
            ]
        },
        {
            "cell_type": "code",
            "metadata": {
                "scrolled": true,
                "slideshow": {
                    "slide_type": "-"
                }
            },
            "source": [
                "class Symbol(Expr):\n",
                "    def __init__(self, name):\n",
                "        self.name = name\n",
                "\n",
                "    def __repr__(self):\n",
                "        return self.name\n",
                "\n",
                "    def __call__(self, **env):\n",
                "        if self.name in env:\n",
                "            return env[self.name]\n",
                "        return self"
            ],
            "outputs": [],
            "execution_count": null
        },
        {
            "cell_type": "markdown",
            "metadata": {
                "scrolled": true,
                "slideshow": {
                    "slide_type": "subslide"
                }
            },
            "source": [
                "## Construction de callable"
            ]
        },
        {
            "cell_type": "code",
            "metadata": {
                "scrolled": true,
                "slideshow": {
                    "slide_type": "-"
                }
            },
            "source": [
                "def make_op(op_func, op_fmt):\n",
                "    return functools.partial(Operation, op_func, op_fmt)"
            ],
            "outputs": [],
            "execution_count": null
        },
        {
            "cell_type": "code",
            "metadata": {
                "scrolled": true,
                "slideshow": {
                    "slide_type": "-"
                }
            },
            "source": [
                "add = make_op(operator.add, '{} + {}'.format)\n",
                "sub = make_op(operator.sub, '{} - {}'.format)\n",
                "mul = make_op(operator.mul, '{} * {}'.format)\n",
                "div = make_op(operator.truediv, '{} / {}'.format)\n",
                "fdiv = make_op(operator.floordiv, '{} // {}'.format)\n",
                "mod = make_op(operator.mod, '{} % {}'.format)\n",
                "pow = make_op(operator.pow, '{} ** {}'.format)"
            ],
            "outputs": [],
            "execution_count": null
        },
        {
            "cell_type": "markdown",
            "metadata": {
                "scrolled": true,
                "slideshow": {
                    "slide_type": "subslide"
                }
            },
            "source": [
                "## Construction de callable"
            ]
        },
        {
            "cell_type": "code",
            "metadata": {
                "scrolled": true,
                "slideshow": {
                    "slide_type": "-"
                }
            },
            "source": [
                ">>> expr = add(pow(Symbol('x'), Scalar(2)), Scalar(5))\n",
                ">>> expr"
            ],
            "outputs": [],
            "execution_count": null
        },
        {
            "cell_type": "code",
            "metadata": {
                "scrolled": true,
                "slideshow": {
                    "slide_type": "-"
                }
            },
            "source": [
                ">>> expr(x=3)"
            ],
            "outputs": [],
            "execution_count": null
        },
        {
            "cell_type": "markdown",
            "metadata": {
                "scrolled": true,
                "slideshow": {
                    "slide_type": "subslide"
                }
            },
            "source": [
                "## Construction de callable"
            ]
        },
        {
            "cell_type": "code",
            "metadata": {
                "scrolled": true,
                "slideshow": {
                    "slide_type": "-"
                }
            },
            "source": [
                "def function(func):\n",
                "    def op_repr(*args):\n",
                "        return f\"{func.__name__}({', '.join(repr(arg) for arg in args)})\"\n",
                "    return functools.partial(Operation, func, op_repr)"
            ],
            "outputs": [],
            "execution_count": null
        },
        {
            "cell_type": "code",
            "metadata": {
                "scrolled": true,
                "slideshow": {
                    "slide_type": "-"
                }
            },
            "source": [
                ">>> import math\n",
                ">>> expr = function(math.cos)(mul(Symbol('x'), Scalar(math.pi)))\n",
                ">>> expr"
            ],
            "outputs": [],
            "execution_count": null
        },
        {
            "cell_type": "code",
            "metadata": {
                "scrolled": true,
                "slideshow": {
                    "slide_type": "-"
                }
            },
            "source": [
                ">>> expr(x=1)"
            ],
            "outputs": [],
            "execution_count": null
        },
        {
            "cell_type": "markdown",
            "metadata": {
                "scrolled": true,
                "slideshow": {
                    "slide_type": "subslide"
                }
            },
            "source": [
                "## Construction de callable"
            ]
        },
        {
            "cell_type": "code",
            "metadata": {
                "scrolled": true,
                "slideshow": {
                    "slide_type": "-"
                }
            },
            "source": [
                "def ensure_expr(x):\n",
                "    if isinstance(x, Expr):\n",
                "        return x\n",
                "    return Scalar(x)"
            ],
            "outputs": [],
            "execution_count": null
        },
        {
            "cell_type": "code",
            "metadata": {
                "scrolled": true,
                "slideshow": {
                    "slide_type": "-"
                }
            },
            "source": [
                "def binop(op_func):\n",
                "    return lambda lhs, rhs: op_func(ensure_expr(lhs), ensure_expr(rhs))\n",
                "\n",
                "def rev_binop(op_func):\n",
                "    return lambda rhs, lhs: op_func(ensure_expr(lhs), ensure_expr(rhs))\n",
                "\n",
                "Expr.__add__ = binop(add)\n",
                "Expr.__radd__ = rev_binop(add)\n",
                "Expr.__sub__ = binop(sub)\n",
                "Expr.__rsub__ = rev_binop(sub)\n",
                "Expr.__mul__ = binop(mul)\n",
                "Expr.__rmul__ = rev_binop(mul)\n",
                "Expr.__truediv__ = binop(div)\n",
                "Expr.__rtruediv__ = rev_binop(div)\n",
                "Expr.__floordiv__ = binop(fdiv)\n",
                "Expr.__rfloordiv__ = rev_binop(fdiv)\n",
                "Expr.__mod__ = binop(mod)\n",
                "Expr.__rmod__ = rev_binop(mod)\n",
                "Expr.__pow__ = binop(pow)\n",
                "Expr.__rpow__ = rev_binop(pow)"
            ],
            "outputs": [],
            "execution_count": null
        },
        {
            "cell_type": "markdown",
            "metadata": {
                "scrolled": true,
                "slideshow": {
                    "slide_type": "subslide"
                }
            },
            "source": [
                "## Construction de callable"
            ]
        },
        {
            "cell_type": "code",
            "metadata": {
                "scrolled": true,
                "slideshow": {
                    "slide_type": "-"
                }
            },
            "source": [
                ">>> expr = 3 * Symbol('x') ** 2 + 2\n",
                ">>> expr"
            ],
            "outputs": [],
            "execution_count": null
        },
        {
            "cell_type": "code",
            "metadata": {
                "scrolled": true,
                "slideshow": {
                    "slide_type": "-"
                }
            },
            "source": [
                ">>> expr(x=10)"
            ],
            "outputs": [],
            "execution_count": null
        },
        {
            "cell_type": "markdown",
            "metadata": {
                "scrolled": true,
                "slideshow": {
                    "slide_type": "slide"
                }
            },
            "source": [
                "# Construction de fonction"
            ]
        },
        {
            "cell_type": "markdown",
            "metadata": {
                "scrolled": true,
                "slideshow": {
                    "slide_type": "subslide"
                }
            },
            "source": [
                "## Fonctions VS callables\n",
                "\n",
                "- Si une fonction est un callable, alors elle poss\u00e8de une m\u00e9thode `__call__`"
            ]
        },
        {
            "cell_type": "markdown",
            "metadata": {
                "scrolled": true,
                "slideshow": {
                    "slide_type": "fragment"
                }
            },
            "source": [
                "- Mais vers quoi pointe cette m\u00e9thode\u00a0?"
            ]
        },
        {
            "cell_type": "code",
            "metadata": {
                "scrolled": true,
                "slideshow": {
                    "slide_type": "fragment"
                }
            },
            "source": [
                ">>> addition.__call__"
            ],
            "outputs": [],
            "execution_count": null
        },
        {
            "cell_type": "code",
            "metadata": {
                "scrolled": true,
                "slideshow": {
                    "slide_type": "-"
                }
            },
            "source": [
                ">>> addition.__call__(3, 5)"
            ],
            "outputs": [],
            "execution_count": null
        },
        {
            "cell_type": "code",
            "metadata": {
                "scrolled": true,
                "slideshow": {
                    "slide_type": "fragment"
                }
            },
            "source": [
                ">>> addition.__call__.__call__.__call__(3, 5)"
            ],
            "outputs": [],
            "execution_count": null
        },
        {
            "cell_type": "markdown",
            "metadata": {
                "scrolled": true,
                "slideshow": {
                    "slide_type": "fragment"
                }
            },
            "source": [
                "- Un autre m\u00e9canisme est donc n\u00e9cessaire"
            ]
        },
        {
            "cell_type": "markdown",
            "metadata": {
                "scrolled": true,
                "slideshow": {
                    "slide_type": "subslide"
                }
            },
            "source": [
                "## Fonctions VS callables\n",
                "\n",
                "- Les fonctions poss\u00e8dent un attribut `__code__`\n",
                "- Celui-ci contient le code (compil\u00e9) de la fonction"
            ]
        },
        {
            "cell_type": "code",
            "metadata": {
                "scrolled": true,
                "slideshow": {
                    "slide_type": "fragment"
                }
            },
            "source": [
                "def function():\n",
                "    print('hello')"
            ],
            "outputs": [],
            "execution_count": null
        },
        {
            "cell_type": "code",
            "metadata": {
                "scrolled": true,
                "slideshow": {
                    "slide_type": "-"
                }
            },
            "source": [
                ">>> function.__code__"
            ],
            "outputs": [],
            "execution_count": null
        },
        {
            "cell_type": "markdown",
            "metadata": {
                "scrolled": true,
                "slideshow": {
                    "slide_type": "fragment"
                }
            },
            "source": [
                "- Ce code est un objet ex\u00e9cutable"
            ]
        },
        {
            "cell_type": "code",
            "metadata": {
                "scrolled": true,
                "slideshow": {
                    "slide_type": "-"
                }
            },
            "source": [
                ">>> exec(function.__code__)"
            ],
            "outputs": [],
            "execution_count": null
        },
        {
            "cell_type": "markdown",
            "metadata": {
                "scrolled": true,
                "slideshow": {
                    "slide_type": "fragment"
                }
            },
            "source": [
                "- Du moins pour les fonctions sans param\u00e8tres"
            ]
        },
        {
            "cell_type": "markdown",
            "metadata": {
                "scrolled": true,
                "slideshow": {
                    "slide_type": "subslide"
                }
            },
            "source": [
                "## Construction de fonctions\n",
                "\n",
                "- Une fonction est donc un enrobage autour d'un objet code"
            ]
        },
        {
            "cell_type": "markdown",
            "metadata": {
                "scrolled": true,
                "slideshow": {
                    "slide_type": "fragment"
                }
            },
            "source": [
                "- On peut construire une fonction en cr\u00e9ant une instance `FunctionType` du module `types`"
            ]
        },
        {
            "cell_type": "code",
            "metadata": {
                "scrolled": true,
                "slideshow": {
                    "slide_type": "-"
                }
            },
            "source": [
                ">>> import types\n",
                ">>> newfunc = types.FunctionType(function.__code__, globals())"
            ],
            "outputs": [],
            "execution_count": null
        },
        {
            "cell_type": "code",
            "metadata": {
                "scrolled": true,
                "slideshow": {
                    "slide_type": "-"
                }
            },
            "source": [
                ">>> newfunc()"
            ],
            "outputs": [],
            "execution_count": null
        },
        {
            "cell_type": "markdown",
            "metadata": {
                "scrolled": true,
                "slideshow": {
                    "slide_type": "fragment"
                }
            },
            "source": [
                "- Mais comment construire un objet code\u00a0?"
            ]
        },
        {
            "cell_type": "markdown",
            "metadata": {
                "scrolled": true,
                "slideshow": {
                    "slide_type": "subslide"
                }
            },
            "source": [
                "## Construction de fonctions\n",
                "\n",
                "- La fonction `compile` permet cela\n",
                "- \u00c0 partir d'un AST Python ou de code brut"
            ]
        },
        {
            "cell_type": "markdown",
            "metadata": {
                "scrolled": true,
                "slideshow": {
                    "slide_type": "fragment"
                }
            },
            "source": [
                "- Un n\u0153ud `ast.FunctionDef` est alors n\u00e9cessaire pour construire une fonction\n",
                "- Celui-ci d\u00e9finit le nom, les param\u00e8tres et le corps de la fonction"
            ]
        },
        {
            "cell_type": "markdown",
            "metadata": {
                "scrolled": true,
                "slideshow": {
                    "slide_type": "subslide"
                }
            },
            "source": [
                "## Construction de fonctions"
            ]
        },
        {
            "cell_type": "code",
            "metadata": {
                "scrolled": true,
                "slideshow": {
                    "slide_type": "-"
                }
            },
            "source": [
                ">>> import ast\n",
                ">>> func_body = ast.parse(\"print('hello')\").body\n",
                ">>> func_body"
            ],
            "outputs": [],
            "execution_count": null
        },
        {
            "cell_type": "code",
            "metadata": {
                "scrolled": true,
                "slideshow": {
                    "slide_type": "fragment"
                }
            },
            "source": [
                ">>> fdef = ast.FunctionDef(\n",
                "...     name='f',\n",
                "...     args=ast.arguments(posonlyargs=[], args=[], kwonlyargs=[], kw_defaults=[], defaults=[]),\n",
                "...     body=func_body,\n",
                "...     lineno=0,\n",
                "...     col_offset=0,\n",
                "...     decorator_list=[],\n",
                "... )"
            ],
            "outputs": [],
            "execution_count": null
        },
        {
            "cell_type": "code",
            "metadata": {
                "scrolled": true,
                "slideshow": {
                    "slide_type": "fragment"
                }
            },
            "source": [
                ">>> code = compile(ast.Module(body=[fdef], type_ignores=[]), 'x', 'exec')\n",
                ">>> func_code = code.co_consts[0]\n",
                ">>> func_code"
            ],
            "outputs": [],
            "execution_count": null
        },
        {
            "cell_type": "code",
            "metadata": {
                "scrolled": true,
                "slideshow": {
                    "slide_type": "fragment"
                }
            },
            "source": [
                ">>> f = types.FunctionType(func_code, {})\n",
                ">>> f()"
            ],
            "outputs": [],
            "execution_count": null
        },
        {
            "cell_type": "markdown",
            "metadata": {
                "scrolled": true,
                "slideshow": {
                    "slide_type": "subslide"
                }
            },
            "source": [
                "## Construction de fonctions"
            ]
        },
        {
            "cell_type": "code",
            "metadata": {
                "scrolled": true,
                "slideshow": {
                    "slide_type": "-"
                }
            },
            "source": [
                "def create_function(name, body, arg_names):\n",
                "    function_body = ast.parse(body).body\n",
                "    args = [ast.arg(arg=arg_name, lineno=0, col_offset=0) for arg_name in arg_names]\n",
                "\n",
                "    function_def = ast.FunctionDef(\n",
                "        name=name,\n",
                "        args=ast.arguments(\n",
                "            posonlyargs=[],\n",
                "            args=args,\n",
                "            kwonlyargs=[],\n",
                "            defaults=[],\n",
                "            kw_defaults=[]),\n",
                "        body = function_body,\n",
                "        decorator_list=[],\n",
                "        lineno=0,\n",
                "        col_offset=0,\n",
                "    )\n",
                "    module = compile(ast.Module(body=[function_def], type_ignores=[]), \"<string>\", \"exec\")\n",
                "    function_code = next(c for c in module.co_consts if isinstance(c, types.CodeType))\n",
                "\n",
                "    return types.FunctionType(function_code, globals())"
            ],
            "outputs": [],
            "execution_count": null
        },
        {
            "cell_type": "markdown",
            "metadata": {
                "scrolled": true,
                "slideshow": {
                    "slide_type": "subslide"
                }
            },
            "source": [
                "## Construction de fonctions"
            ]
        },
        {
            "cell_type": "code",
            "metadata": {
                "scrolled": true,
                "slideshow": {
                    "slide_type": "-"
                }
            },
            "source": [
                ">>> addition = create_function('addition', 'return a + b', ('a', 'b'))\n",
                ">>> addition"
            ],
            "outputs": [],
            "execution_count": null
        },
        {
            "cell_type": "code",
            "metadata": {
                "scrolled": true,
                "slideshow": {
                    "slide_type": "-"
                }
            },
            "source": [
                ">>> addition(3, 5)"
            ],
            "outputs": [],
            "execution_count": null
        },
        {
            "cell_type": "markdown",
            "metadata": {
                "scrolled": true,
                "slideshow": {
                    "slide_type": "slide"
                }
            },
            "source": [
                "# Conclusion"
            ]
        },
        {
            "cell_type": "markdown",
            "metadata": {
                "scrolled": true,
                "slideshow": {
                    "slide_type": "subslide"
                }
            },
            "source": [
                "## Conclusion"
            ]
        },
        {
            "cell_type": "code",
            "metadata": {
                "scrolled": true,
                "slideshow": {
                    "slide_type": "-"
                }
            },
            "source": [
                "conclusion()"
            ],
            "outputs": [],
            "execution_count": null
        },
        {
            "cell_type": "markdown",
            "metadata": {
                "scrolled": true,
                "slideshow": {
                    "slide_type": "fragment"
                }
            },
            "source": [
                "* <https://github.com/entwanne/presentation_callables>"
            ]
        },
        {
            "cell_type": "markdown",
            "metadata": {
                "scrolled": true,
                "slideshow": {
                    "slide_type": "subslide"
                }
            },
            "source": [
                "## Questions\u00a0?"
            ]
        }
    ],
    "metadata": {
        "celltoolbar": "Slideshow",
        "kernelspec": {
            "display_name": "Python 3",
            "language": "python",
            "name": "python3"
        },
        "language_info": {
            "codemirror_mode": {
                "name": "ipython",
                "version": 3
            },
            "file_extension": ".py",
            "mimetype": "text/x-python",
            "name": "python",
            "nbconvert_exporter": "python",
            "pygments_lexer": "ipython3",
            "version": "3.6.5"
        },
        "livereveal": {
            "autolaunch": true
        }
    },
    "nbformat": 4,
    "nbformat_minor": 2
}